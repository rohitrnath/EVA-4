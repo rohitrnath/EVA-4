{
  "nbformat": 4,
  "nbformat_minor": 0,
  "metadata": {
    "colab": {
      "name": "Assignemnt7_final.ipynb",
      "provenance": [],
      "collapsed_sections": []
    },
    "kernelspec": {
      "name": "python3",
      "display_name": "Python 3"
    },
    "accelerator": "GPU"
  },
  "cells": [
    {
      "cell_type": "markdown",
      "metadata": {
        "id": "qvmtErNjC-g-",
        "colab_type": "text"
      },
      "source": [
        "#Link with Google Drive"
      ]
    },
    {
      "cell_type": "code",
      "metadata": {
        "id": "JrmnguQ46lSj",
        "colab_type": "code",
        "outputId": "f70b3d1c-776e-4bf7-f66f-a8bd890333dc",
        "colab": {
          "base_uri": "https://localhost:8080/",
          "height": 71
        }
      },
      "source": [
        "from google.colab import drive\n",
        "drive.mount('/content/drive')\n",
        "%cd /content/drive/My\\ Drive/EVA4/S7"
      ],
      "execution_count": 1,
      "outputs": [
        {
          "output_type": "stream",
          "text": [
            "Drive already mounted at /content/drive; to attempt to forcibly remount, call drive.mount(\"/content/drive\", force_remount=True).\n",
            "/content/drive/My Drive/EVA4/S7\n"
          ],
          "name": "stdout"
        }
      ]
    },
    {
      "cell_type": "code",
      "metadata": {
        "id": "Fvx_3kd57-dk",
        "colab_type": "code",
        "outputId": "68d1485d-2880-4861-ad92-4fef7d04c674",
        "colab": {
          "base_uri": "https://localhost:8080/",
          "height": 34
        }
      },
      "source": [
        "!pwd"
      ],
      "execution_count": 2,
      "outputs": [
        {
          "output_type": "stream",
          "text": [
            "/content/drive/My Drive/EVA4/S7\n"
          ],
          "name": "stdout"
        }
      ]
    },
    {
      "cell_type": "markdown",
      "metadata": {
        "id": "a6m3KL7pDGHv",
        "colab_type": "text"
      },
      "source": [
        "#Data abstraction and transform"
      ]
    },
    {
      "cell_type": "code",
      "metadata": {
        "id": "hrMPf15pvGwn",
        "colab_type": "code",
        "colab": {}
      },
      "source": [
        "%matplotlib inline"
      ],
      "execution_count": 0,
      "outputs": []
    },
    {
      "cell_type": "code",
      "metadata": {
        "id": "fEOcC8SgxZ69",
        "colab_type": "code",
        "colab": {
          "base_uri": "https://localhost:8080/",
          "height": 357
        },
        "outputId": "d8083afa-9957-425a-f0c6-8edb6a75faff"
      },
      "source": [
        "import pullData\n",
        "\n",
        "pullData.analyseCIFAR10()"
      ],
      "execution_count": 4,
      "outputs": [
        {
          "output_type": "stream",
          "text": [
            "Files already downloaded and verified\n",
            " - Numpy Shape: (50000, 32, 32, 3)\n",
            "[CHANNEL 0]\n",
            " - min: tensor(0.)\n",
            " - max: tensor(1.)\n",
            " - mean: tensor(0.4915)\n",
            " - std: tensor(0.2470)\n",
            " - var: tensor(0.0610)\n",
            "[CHANNEL 1]\n",
            " - min: tensor(0.)\n",
            " - max: tensor(1.)\n",
            " - mean: tensor(0.4823)\n",
            " - std: tensor(0.2435)\n",
            " - var: tensor(0.0593)\n",
            "[CHANNEL 2]\n",
            " - min: tensor(0.)\n",
            " - max: tensor(1.)\n",
            " - mean: tensor(0.4468)\n",
            " - std: tensor(0.2616)\n",
            " - var: tensor(0.0684)\n"
          ],
          "name": "stdout"
        }
      ]
    },
    {
      "cell_type": "code",
      "metadata": {
        "id": "nA3nMIAFxaXJ",
        "colab_type": "code",
        "colab": {
          "base_uri": "https://localhost:8080/",
          "height": 68
        },
        "outputId": "ddd95e2e-05e7-48b8-ba41-a296e19f1385"
      },
      "source": [
        "trainloader,  testloader, classes = pullData.pullCIFAR10()"
      ],
      "execution_count": 5,
      "outputs": [
        {
          "output_type": "stream",
          "text": [
            "Files already downloaded and verified\n",
            "Files already downloaded and verified\n",
            "CUDA Available? True\n"
          ],
          "name": "stdout"
        }
      ]
    },
    {
      "cell_type": "markdown",
      "metadata": {
        "id": "WjcEAXDaDPB8",
        "colab_type": "text"
      },
      "source": [
        "#Model Summary"
      ]
    },
    {
      "cell_type": "code",
      "metadata": {
        "id": "np9UP0D8H2t4",
        "colab_type": "code",
        "colab": {
          "base_uri": "https://localhost:8080/",
          "height": 918
        },
        "outputId": "30128533-b2b3-40d7-a535-dbce7d15ccb6"
      },
      "source": [
        "import torch\n",
        "import model\n",
        "from torchsummary import summary\n",
        "use_cuda = torch.cuda.is_available()\n",
        "device = torch.device(\"cuda\" if use_cuda else \"cpu\")\n",
        "Mymodel = model.Net().to(device)\n",
        "summary(Mymodel, input_size=(3, 32, 32))"
      ],
      "execution_count": 6,
      "outputs": [
        {
          "output_type": "stream",
          "text": [
            "----------------------------------------------------------------\n",
            "        Layer (type)               Output Shape         Param #\n",
            "================================================================\n",
            "            Conv2d-1           [-1, 64, 28, 28]           1,728\n",
            "              ReLU-2           [-1, 64, 28, 28]               0\n",
            "       BatchNorm2d-3           [-1, 64, 28, 28]             128\n",
            "           Dropout-4           [-1, 64, 28, 28]               0\n",
            "            Conv2d-5           [-1, 64, 26, 26]          36,864\n",
            "              ReLU-6           [-1, 64, 26, 26]               0\n",
            "       BatchNorm2d-7           [-1, 64, 26, 26]             128\n",
            "           Dropout-8           [-1, 64, 26, 26]               0\n",
            "            Conv2d-9           [-1, 64, 26, 28]             256\n",
            "           Conv2d-10          [-1, 128, 26, 26]          24,704\n",
            "             ReLU-11          [-1, 128, 26, 26]               0\n",
            "      BatchNorm2d-12          [-1, 128, 26, 26]             256\n",
            "          Dropout-13          [-1, 128, 26, 26]               0\n",
            "           Conv2d-14          [-1, 128, 26, 26]           1,280\n",
            "           Conv2d-15          [-1, 256, 26, 26]          33,024\n",
            "             ReLU-16          [-1, 256, 26, 26]               0\n",
            "      BatchNorm2d-17          [-1, 256, 26, 26]             512\n",
            "          Dropout-18          [-1, 256, 26, 26]               0\n",
            "        MaxPool2d-19          [-1, 256, 13, 13]               0\n",
            "           Conv2d-20           [-1, 64, 13, 13]          16,384\n",
            "      BatchNorm2d-21           [-1, 64, 13, 13]             128\n",
            "          Dropout-22           [-1, 64, 13, 13]               0\n",
            "           Conv2d-23           [-1, 64, 11, 11]          36,864\n",
            "             ReLU-24           [-1, 64, 11, 11]               0\n",
            "      BatchNorm2d-25           [-1, 64, 11, 11]             128\n",
            "          Dropout-26           [-1, 64, 11, 11]               0\n",
            "           Conv2d-27           [-1, 64, 11, 11]             640\n",
            "           Conv2d-28          [-1, 128, 11, 11]           8,320\n",
            "             ReLU-29          [-1, 128, 11, 11]               0\n",
            "      BatchNorm2d-30          [-1, 128, 11, 11]             256\n",
            "          Dropout-31          [-1, 128, 11, 11]               0\n",
            "           Conv2d-32          [-1, 128, 11, 11]           1,280\n",
            "           Conv2d-33          [-1, 256, 11, 11]          33,024\n",
            "             ReLU-34          [-1, 256, 11, 11]               0\n",
            "      BatchNorm2d-35          [-1, 256, 11, 11]             512\n",
            "          Dropout-36          [-1, 256, 11, 11]               0\n",
            "           Conv2d-37          [-1, 256, 11, 13]           1,024\n",
            "           Conv2d-38          [-1, 512, 11, 11]         393,728\n",
            "        AvgPool2d-39            [-1, 512, 1, 1]               0\n",
            "           Conv2d-40             [-1, 10, 1, 1]           5,120\n",
            "================================================================\n",
            "Total params: 596,288\n",
            "Trainable params: 596,288\n",
            "Non-trainable params: 0\n",
            "----------------------------------------------------------------\n",
            "Input size (MB): 0.01\n",
            "Forward/backward pass size (MB): 14.95\n",
            "Params size (MB): 2.27\n",
            "Estimated Total Size (MB): 17.24\n",
            "----------------------------------------------------------------\n"
          ],
          "name": "stdout"
        }
      ]
    },
    {
      "cell_type": "markdown",
      "metadata": {
        "id": "W4VFUAXZDS9r",
        "colab_type": "text"
      },
      "source": [
        "#Train the Model"
      ]
    },
    {
      "cell_type": "code",
      "metadata": {
        "id": "P0REIanbNY2e",
        "colab_type": "code",
        "colab": {
          "base_uri": "https://localhost:8080/",
          "height": 1000
        },
        "outputId": "7e742e7f-3290-44c2-a6c4-df783f47b32d"
      },
      "source": [
        "import trainAndTest\n",
        "trainAndTest.trainModel(25,Mymodel, device, trainloader, testloader)"
      ],
      "execution_count": 7,
      "outputs": [
        {
          "output_type": "stream",
          "text": [
            "\r  0%|          | 0/391 [00:00<?, ?it/s]"
          ],
          "name": "stderr"
        },
        {
          "output_type": "stream",
          "text": [
            "EPOCH: 0\n"
          ],
          "name": "stdout"
        },
        {
          "output_type": "stream",
          "text": [
            "Loss=1.7481470108032227 Batch_id=390 Accuracy=41.32: 100%|██████████| 391/391 [00:35<00:00, 11.03it/s]\n",
            "  0%|          | 0/391 [00:00<?, ?it/s]"
          ],
          "name": "stderr"
        },
        {
          "output_type": "stream",
          "text": [
            "\n",
            "Test set: Average loss: 1.5857, Accuracy: 4357/10000 (43.57%)\n",
            "\n",
            "EPOCH: 1\n"
          ],
          "name": "stdout"
        },
        {
          "output_type": "stream",
          "text": [
            "Loss=1.5722239017486572 Batch_id=390 Accuracy=59.01: 100%|██████████| 391/391 [00:35<00:00, 11.92it/s]\n",
            "  0%|          | 0/391 [00:00<?, ?it/s]"
          ],
          "name": "stderr"
        },
        {
          "output_type": "stream",
          "text": [
            "\n",
            "Test set: Average loss: 1.1254, Accuracy: 6029/10000 (60.29%)\n",
            "\n",
            "EPOCH: 2\n"
          ],
          "name": "stdout"
        },
        {
          "output_type": "stream",
          "text": [
            "Loss=1.572922945022583 Batch_id=390 Accuracy=65.89: 100%|██████████| 391/391 [00:35<00:00, 11.72it/s]\n",
            "  0%|          | 0/391 [00:00<?, ?it/s]"
          ],
          "name": "stderr"
        },
        {
          "output_type": "stream",
          "text": [
            "\n",
            "Test set: Average loss: 1.0281, Accuracy: 6255/10000 (62.55%)\n",
            "\n",
            "EPOCH: 3\n"
          ],
          "name": "stdout"
        },
        {
          "output_type": "stream",
          "text": [
            "Loss=1.3345487117767334 Batch_id=390 Accuracy=69.75: 100%|██████████| 391/391 [00:35<00:00, 11.97it/s]\n",
            "  0%|          | 0/391 [00:00<?, ?it/s]"
          ],
          "name": "stderr"
        },
        {
          "output_type": "stream",
          "text": [
            "\n",
            "Test set: Average loss: 0.8590, Accuracy: 6942/10000 (69.42%)\n",
            "\n",
            "EPOCH: 4\n"
          ],
          "name": "stdout"
        },
        {
          "output_type": "stream",
          "text": [
            "Loss=1.4623113870620728 Batch_id=390 Accuracy=72.60: 100%|██████████| 391/391 [00:35<00:00, 11.91it/s]\n",
            "  0%|          | 0/391 [00:00<?, ?it/s]"
          ],
          "name": "stderr"
        },
        {
          "output_type": "stream",
          "text": [
            "\n",
            "Test set: Average loss: 0.8361, Accuracy: 7026/10000 (70.26%)\n",
            "\n",
            "EPOCH: 5\n"
          ],
          "name": "stdout"
        },
        {
          "output_type": "stream",
          "text": [
            "Loss=1.338636875152588 Batch_id=390 Accuracy=74.17: 100%|██████████| 391/391 [00:35<00:00, 12.04it/s]\n",
            "  0%|          | 0/391 [00:00<?, ?it/s]"
          ],
          "name": "stderr"
        },
        {
          "output_type": "stream",
          "text": [
            "\n",
            "Test set: Average loss: 0.7573, Accuracy: 7373/10000 (73.73%)\n",
            "\n",
            "EPOCH: 6\n"
          ],
          "name": "stdout"
        },
        {
          "output_type": "stream",
          "text": [
            "Loss=1.264021635055542 Batch_id=390 Accuracy=75.65: 100%|██████████| 391/391 [00:35<00:00, 11.03it/s]\n",
            "  0%|          | 0/391 [00:00<?, ?it/s]"
          ],
          "name": "stderr"
        },
        {
          "output_type": "stream",
          "text": [
            "\n",
            "Test set: Average loss: 0.7132, Accuracy: 7504/10000 (75.04%)\n",
            "\n",
            "EPOCH: 7\n"
          ],
          "name": "stdout"
        },
        {
          "output_type": "stream",
          "text": [
            "Loss=1.3522580862045288 Batch_id=390 Accuracy=76.52: 100%|██████████| 391/391 [00:35<00:00, 11.13it/s]\n",
            "  0%|          | 0/391 [00:00<?, ?it/s]"
          ],
          "name": "stderr"
        },
        {
          "output_type": "stream",
          "text": [
            "\n",
            "Test set: Average loss: 0.7419, Accuracy: 7388/10000 (73.88%)\n",
            "\n",
            "EPOCH: 8\n"
          ],
          "name": "stdout"
        },
        {
          "output_type": "stream",
          "text": [
            "Loss=1.5451769828796387 Batch_id=390 Accuracy=77.98: 100%|██████████| 391/391 [00:35<00:00, 11.01it/s]\n",
            "  0%|          | 0/391 [00:00<?, ?it/s]"
          ],
          "name": "stderr"
        },
        {
          "output_type": "stream",
          "text": [
            "\n",
            "Test set: Average loss: 0.6910, Accuracy: 7600/10000 (76.00%)\n",
            "\n",
            "EPOCH: 9\n"
          ],
          "name": "stdout"
        },
        {
          "output_type": "stream",
          "text": [
            "Loss=1.0949978828430176 Batch_id=390 Accuracy=81.35: 100%|██████████| 391/391 [00:35<00:00, 11.05it/s]\n",
            "  0%|          | 0/391 [00:00<?, ?it/s]"
          ],
          "name": "stderr"
        },
        {
          "output_type": "stream",
          "text": [
            "\n",
            "Test set: Average loss: 0.5805, Accuracy: 8009/10000 (80.09%)\n",
            "\n",
            "EPOCH: 10\n"
          ],
          "name": "stdout"
        },
        {
          "output_type": "stream",
          "text": [
            "Loss=1.3544201850891113 Batch_id=390 Accuracy=82.13: 100%|██████████| 391/391 [00:35<00:00, 11.01it/s]\n",
            "  0%|          | 0/391 [00:00<?, ?it/s]"
          ],
          "name": "stderr"
        },
        {
          "output_type": "stream",
          "text": [
            "\n",
            "Test set: Average loss: 0.5834, Accuracy: 7985/10000 (79.85%)\n",
            "\n",
            "EPOCH: 11\n"
          ],
          "name": "stdout"
        },
        {
          "output_type": "stream",
          "text": [
            "Loss=1.1461087465286255 Batch_id=390 Accuracy=82.26: 100%|██████████| 391/391 [00:35<00:00, 11.92it/s]\n",
            "  0%|          | 0/391 [00:00<?, ?it/s]"
          ],
          "name": "stderr"
        },
        {
          "output_type": "stream",
          "text": [
            "\n",
            "Test set: Average loss: 0.5702, Accuracy: 8051/10000 (80.51%)\n",
            "\n",
            "EPOCH: 12\n"
          ],
          "name": "stdout"
        },
        {
          "output_type": "stream",
          "text": [
            "Loss=1.1263066530227661 Batch_id=390 Accuracy=82.57: 100%|██████████| 391/391 [00:35<00:00, 11.86it/s]\n",
            "  0%|          | 0/391 [00:00<?, ?it/s]"
          ],
          "name": "stderr"
        },
        {
          "output_type": "stream",
          "text": [
            "\n",
            "Test set: Average loss: 0.5670, Accuracy: 8037/10000 (80.37%)\n",
            "\n",
            "EPOCH: 13\n"
          ],
          "name": "stdout"
        },
        {
          "output_type": "stream",
          "text": [
            "Loss=1.2109253406524658 Batch_id=390 Accuracy=82.81: 100%|██████████| 391/391 [00:35<00:00, 10.94it/s]\n",
            "  0%|          | 0/391 [00:00<?, ?it/s]"
          ],
          "name": "stderr"
        },
        {
          "output_type": "stream",
          "text": [
            "\n",
            "Test set: Average loss: 0.5741, Accuracy: 7989/10000 (79.89%)\n",
            "\n",
            "EPOCH: 14\n"
          ],
          "name": "stdout"
        },
        {
          "output_type": "stream",
          "text": [
            "Loss=1.2841068506240845 Batch_id=390 Accuracy=83.00: 100%|██████████| 391/391 [00:35<00:00, 10.97it/s]\n",
            "  0%|          | 0/391 [00:00<?, ?it/s]"
          ],
          "name": "stderr"
        },
        {
          "output_type": "stream",
          "text": [
            "\n",
            "Test set: Average loss: 0.6071, Accuracy: 7885/10000 (78.85%)\n",
            "\n",
            "EPOCH: 15\n"
          ],
          "name": "stdout"
        },
        {
          "output_type": "stream",
          "text": [
            "Loss=1.2247982025146484 Batch_id=390 Accuracy=82.96: 100%|██████████| 391/391 [00:35<00:00, 10.93it/s]\n",
            "  0%|          | 0/391 [00:00<?, ?it/s]"
          ],
          "name": "stderr"
        },
        {
          "output_type": "stream",
          "text": [
            "\n",
            "Test set: Average loss: 0.5780, Accuracy: 8015/10000 (80.15%)\n",
            "\n",
            "EPOCH: 16\n"
          ],
          "name": "stdout"
        },
        {
          "output_type": "stream",
          "text": [
            "Loss=1.107259750366211 Batch_id=390 Accuracy=83.36: 100%|██████████| 391/391 [00:35<00:00, 11.78it/s]\n",
            "  0%|          | 0/391 [00:00<?, ?it/s]"
          ],
          "name": "stderr"
        },
        {
          "output_type": "stream",
          "text": [
            "\n",
            "Test set: Average loss: 0.5777, Accuracy: 8005/10000 (80.05%)\n",
            "\n",
            "EPOCH: 17\n"
          ],
          "name": "stdout"
        },
        {
          "output_type": "stream",
          "text": [
            "Loss=1.1052064895629883 Batch_id=390 Accuracy=83.55: 100%|██████████| 391/391 [00:35<00:00, 11.97it/s]\n",
            "  0%|          | 0/391 [00:00<?, ?it/s]"
          ],
          "name": "stderr"
        },
        {
          "output_type": "stream",
          "text": [
            "\n",
            "Test set: Average loss: 0.5667, Accuracy: 8038/10000 (80.38%)\n",
            "\n",
            "EPOCH: 18\n"
          ],
          "name": "stdout"
        },
        {
          "output_type": "stream",
          "text": [
            "Loss=1.1956164836883545 Batch_id=390 Accuracy=83.86: 100%|██████████| 391/391 [00:35<00:00, 11.83it/s]\n",
            "  0%|          | 0/391 [00:00<?, ?it/s]"
          ],
          "name": "stderr"
        },
        {
          "output_type": "stream",
          "text": [
            "\n",
            "Test set: Average loss: 0.5593, Accuracy: 8067/10000 (80.67%)\n",
            "\n",
            "EPOCH: 19\n"
          ],
          "name": "stdout"
        },
        {
          "output_type": "stream",
          "text": [
            "Loss=1.0775805711746216 Batch_id=390 Accuracy=83.81: 100%|██████████| 391/391 [00:35<00:00, 11.01it/s]\n",
            "  0%|          | 0/391 [00:00<?, ?it/s]"
          ],
          "name": "stderr"
        },
        {
          "output_type": "stream",
          "text": [
            "\n",
            "Test set: Average loss: 0.5635, Accuracy: 8049/10000 (80.49%)\n",
            "\n",
            "EPOCH: 20\n"
          ],
          "name": "stdout"
        },
        {
          "output_type": "stream",
          "text": [
            "Loss=1.2235689163208008 Batch_id=390 Accuracy=84.10: 100%|██████████| 391/391 [00:35<00:00, 11.95it/s]\n",
            "  0%|          | 0/391 [00:00<?, ?it/s]"
          ],
          "name": "stderr"
        },
        {
          "output_type": "stream",
          "text": [
            "\n",
            "Test set: Average loss: 0.5628, Accuracy: 8050/10000 (80.50%)\n",
            "\n",
            "EPOCH: 21\n"
          ],
          "name": "stdout"
        },
        {
          "output_type": "stream",
          "text": [
            "Loss=1.112646460533142 Batch_id=390 Accuracy=84.03: 100%|██████████| 391/391 [00:35<00:00, 10.91it/s]\n",
            "  0%|          | 0/391 [00:00<?, ?it/s]"
          ],
          "name": "stderr"
        },
        {
          "output_type": "stream",
          "text": [
            "\n",
            "Test set: Average loss: 0.5615, Accuracy: 8048/10000 (80.48%)\n",
            "\n",
            "EPOCH: 22\n"
          ],
          "name": "stdout"
        },
        {
          "output_type": "stream",
          "text": [
            "Loss=1.1611852645874023 Batch_id=390 Accuracy=84.18: 100%|██████████| 391/391 [00:35<00:00, 11.06it/s]\n",
            "  0%|          | 0/391 [00:00<?, ?it/s]"
          ],
          "name": "stderr"
        },
        {
          "output_type": "stream",
          "text": [
            "\n",
            "Test set: Average loss: 0.5589, Accuracy: 8063/10000 (80.63%)\n",
            "\n",
            "EPOCH: 23\n"
          ],
          "name": "stdout"
        },
        {
          "output_type": "stream",
          "text": [
            "Loss=1.2955617904663086 Batch_id=390 Accuracy=84.19: 100%|██████████| 391/391 [00:35<00:00, 11.94it/s]\n",
            "  0%|          | 0/391 [00:00<?, ?it/s]"
          ],
          "name": "stderr"
        },
        {
          "output_type": "stream",
          "text": [
            "\n",
            "Test set: Average loss: 0.5638, Accuracy: 8050/10000 (80.50%)\n",
            "\n",
            "EPOCH: 24\n"
          ],
          "name": "stdout"
        },
        {
          "output_type": "stream",
          "text": [
            "Loss=1.1837787628173828 Batch_id=390 Accuracy=84.12: 100%|██████████| 391/391 [00:35<00:00, 11.91it/s]\n"
          ],
          "name": "stderr"
        },
        {
          "output_type": "stream",
          "text": [
            "\n",
            "Test set: Average loss: 0.5590, Accuracy: 8052/10000 (80.52%)\n",
            "\n"
          ],
          "name": "stdout"
        }
      ]
    },
    {
      "cell_type": "markdown",
      "metadata": {
        "id": "9soDqkH8DZZk",
        "colab_type": "text"
      },
      "source": [
        "#Labels Test Accuracy"
      ]
    },
    {
      "cell_type": "code",
      "metadata": {
        "id": "UjI4PiFtXBDf",
        "colab_type": "code",
        "colab": {
          "base_uri": "https://localhost:8080/",
          "height": 187
        },
        "outputId": "444bd4ec-ddc8-43e2-e4b8-3800a941e26c"
      },
      "source": [
        "trainAndTest.ClassLabelAccuracy(device, Mymodel, testloader, classes)"
      ],
      "execution_count": 8,
      "outputs": [
        {
          "output_type": "stream",
          "text": [
            "Accuracy of plane : 84 %\n",
            "Accuracy of   car : 91 %\n",
            "Accuracy of  bird : 75 %\n",
            "Accuracy of   cat : 73 %\n",
            "Accuracy of  deer : 82 %\n",
            "Accuracy of   dog : 51 %\n",
            "Accuracy of  frog : 78 %\n",
            "Accuracy of horse : 78 %\n",
            "Accuracy of  ship : 84 %\n",
            "Accuracy of truck : 88 %\n"
          ],
          "name": "stdout"
        }
      ]
    }
  ]
}