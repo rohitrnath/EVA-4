{
  "nbformat": 4,
  "nbformat_minor": 0,
  "metadata": {
    "colab": {
      "name": "Assignment12_A.ipynb",
      "provenance": [],
      "collapsed_sections": [],
      "toc_visible": true
    },
    "kernelspec": {
      "name": "python3",
      "display_name": "Python 3"
    },
    "accelerator": "GPU",
    "widgets": {
      "application/vnd.jupyter.widget-state+json": {
        "69eaea2d355a480f9016fdf0d81fe9ba": {
          "model_module": "@jupyter-widgets/controls",
          "model_name": "HBoxModel",
          "state": {
            "_view_name": "HBoxView",
            "_dom_classes": [],
            "_model_name": "HBoxModel",
            "_view_module": "@jupyter-widgets/controls",
            "_model_module_version": "1.5.0",
            "_view_count": null,
            "_view_module_version": "1.5.0",
            "box_style": "",
            "layout": "IPY_MODEL_2f52f06379184e37b9aefaaf1dc54e33",
            "_model_module": "@jupyter-widgets/controls",
            "children": [
              "IPY_MODEL_a68cb5fd6b114b2daf09933e4bd3031d",
              "IPY_MODEL_2eb168291c8541de9e9fe0fde6184786"
            ]
          }
        },
        "2f52f06379184e37b9aefaaf1dc54e33": {
          "model_module": "@jupyter-widgets/base",
          "model_name": "LayoutModel",
          "state": {
            "_view_name": "LayoutView",
            "grid_template_rows": null,
            "right": null,
            "justify_content": null,
            "_view_module": "@jupyter-widgets/base",
            "overflow": null,
            "_model_module_version": "1.2.0",
            "_view_count": null,
            "flex_flow": null,
            "width": null,
            "min_width": null,
            "border": null,
            "align_items": null,
            "bottom": null,
            "_model_module": "@jupyter-widgets/base",
            "top": null,
            "grid_column": null,
            "overflow_y": null,
            "overflow_x": null,
            "grid_auto_flow": null,
            "grid_area": null,
            "grid_template_columns": null,
            "flex": null,
            "_model_name": "LayoutModel",
            "justify_items": null,
            "grid_row": null,
            "max_height": null,
            "align_content": null,
            "visibility": null,
            "align_self": null,
            "height": null,
            "min_height": null,
            "padding": null,
            "grid_auto_rows": null,
            "grid_gap": null,
            "max_width": null,
            "order": null,
            "_view_module_version": "1.2.0",
            "grid_template_areas": null,
            "object_position": null,
            "object_fit": null,
            "grid_auto_columns": null,
            "margin": null,
            "display": null,
            "left": null
          }
        },
        "a68cb5fd6b114b2daf09933e4bd3031d": {
          "model_module": "@jupyter-widgets/controls",
          "model_name": "IntProgressModel",
          "state": {
            "_view_name": "ProgressView",
            "style": "IPY_MODEL_57144c50c6cd4dac8f8f69c79299e022",
            "_dom_classes": [],
            "description": "100%",
            "_model_name": "IntProgressModel",
            "bar_style": "success",
            "max": 100,
            "_view_module": "@jupyter-widgets/controls",
            "_model_module_version": "1.5.0",
            "value": 100,
            "_view_count": null,
            "_view_module_version": "1.5.0",
            "orientation": "horizontal",
            "min": 0,
            "description_tooltip": null,
            "_model_module": "@jupyter-widgets/controls",
            "layout": "IPY_MODEL_5cc13d3a7e004c49a99ee8ad3d8bde17"
          }
        },
        "2eb168291c8541de9e9fe0fde6184786": {
          "model_module": "@jupyter-widgets/controls",
          "model_name": "HTMLModel",
          "state": {
            "_view_name": "HTMLView",
            "style": "IPY_MODEL_6a6dde0f4f30421ba326b4abf4ef38b0",
            "_dom_classes": [],
            "description": "",
            "_model_name": "HTMLModel",
            "placeholder": "​",
            "_view_module": "@jupyter-widgets/controls",
            "_model_module_version": "1.5.0",
            "value": " 100/100 [01:27&lt;00:00,  1.14it/s]",
            "_view_count": null,
            "_view_module_version": "1.5.0",
            "description_tooltip": null,
            "_model_module": "@jupyter-widgets/controls",
            "layout": "IPY_MODEL_cb98872c0ff24e96aa9b2c4940101805"
          }
        },
        "57144c50c6cd4dac8f8f69c79299e022": {
          "model_module": "@jupyter-widgets/controls",
          "model_name": "ProgressStyleModel",
          "state": {
            "_view_name": "StyleView",
            "_model_name": "ProgressStyleModel",
            "description_width": "initial",
            "_view_module": "@jupyter-widgets/base",
            "_model_module_version": "1.5.0",
            "_view_count": null,
            "_view_module_version": "1.2.0",
            "bar_color": null,
            "_model_module": "@jupyter-widgets/controls"
          }
        },
        "5cc13d3a7e004c49a99ee8ad3d8bde17": {
          "model_module": "@jupyter-widgets/base",
          "model_name": "LayoutModel",
          "state": {
            "_view_name": "LayoutView",
            "grid_template_rows": null,
            "right": null,
            "justify_content": null,
            "_view_module": "@jupyter-widgets/base",
            "overflow": null,
            "_model_module_version": "1.2.0",
            "_view_count": null,
            "flex_flow": null,
            "width": null,
            "min_width": null,
            "border": null,
            "align_items": null,
            "bottom": null,
            "_model_module": "@jupyter-widgets/base",
            "top": null,
            "grid_column": null,
            "overflow_y": null,
            "overflow_x": null,
            "grid_auto_flow": null,
            "grid_area": null,
            "grid_template_columns": null,
            "flex": null,
            "_model_name": "LayoutModel",
            "justify_items": null,
            "grid_row": null,
            "max_height": null,
            "align_content": null,
            "visibility": null,
            "align_self": null,
            "height": null,
            "min_height": null,
            "padding": null,
            "grid_auto_rows": null,
            "grid_gap": null,
            "max_width": null,
            "order": null,
            "_view_module_version": "1.2.0",
            "grid_template_areas": null,
            "object_position": null,
            "object_fit": null,
            "grid_auto_columns": null,
            "margin": null,
            "display": null,
            "left": null
          }
        },
        "6a6dde0f4f30421ba326b4abf4ef38b0": {
          "model_module": "@jupyter-widgets/controls",
          "model_name": "DescriptionStyleModel",
          "state": {
            "_view_name": "StyleView",
            "_model_name": "DescriptionStyleModel",
            "description_width": "",
            "_view_module": "@jupyter-widgets/base",
            "_model_module_version": "1.5.0",
            "_view_count": null,
            "_view_module_version": "1.2.0",
            "_model_module": "@jupyter-widgets/controls"
          }
        },
        "cb98872c0ff24e96aa9b2c4940101805": {
          "model_module": "@jupyter-widgets/base",
          "model_name": "LayoutModel",
          "state": {
            "_view_name": "LayoutView",
            "grid_template_rows": null,
            "right": null,
            "justify_content": null,
            "_view_module": "@jupyter-widgets/base",
            "overflow": null,
            "_model_module_version": "1.2.0",
            "_view_count": null,
            "flex_flow": null,
            "width": null,
            "min_width": null,
            "border": null,
            "align_items": null,
            "bottom": null,
            "_model_module": "@jupyter-widgets/base",
            "top": null,
            "grid_column": null,
            "overflow_y": null,
            "overflow_x": null,
            "grid_auto_flow": null,
            "grid_area": null,
            "grid_template_columns": null,
            "flex": null,
            "_model_name": "LayoutModel",
            "justify_items": null,
            "grid_row": null,
            "max_height": null,
            "align_content": null,
            "visibility": null,
            "align_self": null,
            "height": null,
            "min_height": null,
            "padding": null,
            "grid_auto_rows": null,
            "grid_gap": null,
            "max_width": null,
            "order": null,
            "_view_module_version": "1.2.0",
            "grid_template_areas": null,
            "object_position": null,
            "object_fit": null,
            "grid_auto_columns": null,
            "margin": null,
            "display": null,
            "left": null
          }
        }
      }
    }
  },
  "cells": [
    {
      "cell_type": "code",
      "metadata": {
        "id": "hXzGWJivmz60",
        "colab_type": "code",
        "outputId": "8e3e3c0f-ef7d-42a4-b6c7-15a15efc5d62",
        "colab": {
          "base_uri": "https://localhost:8080/",
          "height": 54
        }
      },
      "source": [
        "from google.colab import drive\n",
        "drive.mount('/content/gdrive')"
      ],
      "execution_count": 1,
      "outputs": [
        {
          "output_type": "stream",
          "text": [
            "Drive already mounted at /content/gdrive; to attempt to forcibly remount, call drive.mount(\"/content/gdrive\", force_remount=True).\n"
          ],
          "name": "stdout"
        }
      ]
    },
    {
      "cell_type": "markdown",
      "metadata": {
        "id": "VN71va-sX1oU",
        "colab_type": "text"
      },
      "source": [
        "## Download Tiny_Imagenet dataset"
      ]
    },
    {
      "cell_type": "code",
      "metadata": {
        "id": "YB8BFgC3iZjV",
        "colab_type": "code",
        "outputId": "8884bf76-ebbd-46cc-9c60-5dd5eb5caf0b",
        "colab": {
          "base_uri": "https://localhost:8080/",
          "height": 51
        }
      },
      "source": [
        "! git clone https://github.com/seshuad/IMagenet\n",
        "! ls 'IMagenet/tiny-imagenet-200/'"
      ],
      "execution_count": 2,
      "outputs": [
        {
          "output_type": "stream",
          "text": [
            "fatal: destination path 'IMagenet' already exists and is not an empty directory.\n",
            "test  train  val  wnids.txt  words.txt\n"
          ],
          "name": "stdout"
        }
      ]
    },
    {
      "cell_type": "markdown",
      "metadata": {
        "id": "S6Mf8Ojmojmc",
        "colab_type": "text"
      },
      "source": [
        "We'll need to update our path to import from Drive."
      ]
    },
    {
      "cell_type": "code",
      "metadata": {
        "id": "psH0aLrvoh78",
        "colab_type": "code",
        "colab": {}
      },
      "source": [
        "import sys\n",
        "sys.path.append('/content/gdrive/My Drive/EVA4/S12/')\n"
      ],
      "execution_count": 0,
      "outputs": []
    },
    {
      "cell_type": "code",
      "metadata": {
        "id": "KeAySNNHckhr",
        "colab_type": "code",
        "colab": {}
      },
      "source": [
        "#!unzip tiny-imagenet-200.zip"
      ],
      "execution_count": 0,
      "outputs": []
    },
    {
      "cell_type": "markdown",
      "metadata": {
        "id": "vXaaOpsxYQKO",
        "colab_type": "text"
      },
      "source": [
        "## PREPERATION OF DATA SET. \n"
      ]
    },
    {
      "cell_type": "markdown",
      "metadata": {
        "id": "pg9YA28sYbSu",
        "colab_type": "text"
      },
      "source": [
        "### SPLIT INTO TRAIN AND TEST DATA SETS"
      ]
    },
    {
      "cell_type": "code",
      "metadata": {
        "id": "Oi8ivWYRYPl9",
        "colab_type": "code",
        "outputId": "382f1757-6072-4e8a-d080-f93036af5bb7",
        "colab": {
          "base_uri": "https://localhost:8080/",
          "height": 85
        }
      },
      "source": [
        "import os\n",
        "from dataset.dataset_utils import create_and_split_dataset, find_classes\n",
        "import dataset.dataset_utils as data_utils\n",
        "import importlib\n",
        "importlib.reload(data_utils)\n",
        "\n",
        "dir = 'IMagenet/tiny-imagenet-200/train'\n",
        "\n",
        "\n",
        "classes, class_to_idx = find_classes(dir)\n",
        "print(\"Number of classes : \", len(classes))\n",
        "\n",
        "test_ratio = 30\n",
        "train_file_names, test_file_names, train_classname_dict, test_classname_dict, classes_dict = create_and_split_dataset(dir, class_to_idx, test_ratio)"
      ],
      "execution_count": 4,
      "outputs": [
        {
          "output_type": "stream",
          "text": [
            "Number of classes :  200\n",
            "Total Image Count =  100000\n",
            "Train Image Count =  70000\n",
            "Test  Image Count =  30000\n"
          ],
          "name": "stdout"
        }
      ]
    },
    {
      "cell_type": "markdown",
      "metadata": {
        "id": "0Xv0t97cfDDn",
        "colab_type": "text"
      },
      "source": [
        "## Find Mean and STD"
      ]
    },
    {
      "cell_type": "code",
      "metadata": {
        "id": "z3XCruVaPigw",
        "colab_type": "code",
        "outputId": "fe2bcc5d-0606-40aa-f611-21be6f3367d7",
        "colab": {
          "base_uri": "https://localhost:8080/",
          "height": 51
        }
      },
      "source": [
        "import torch\n",
        "from dataset.ImagenetDataset import ImagenetDataset\n",
        "\n",
        "train_data = ImagenetDataset(dir,train_file_names, train_classname_dict,classes_dict)\n",
        "test_data = ImagenetDataset(dir,test_file_names,test_classname_dict,classes_dict)\n"
      ],
      "execution_count": 5,
      "outputs": [
        {
          "output_type": "stream",
          "text": [
            "69999\n",
            "29999\n"
          ],
          "name": "stdout"
        }
      ]
    },
    {
      "cell_type": "markdown",
      "metadata": {
        "id": "dZRgYw_Noz5E",
        "colab_type": "text"
      },
      "source": [
        "## Now we can import the custom model library and other functions"
      ]
    },
    {
      "cell_type": "code",
      "metadata": {
        "id": "EBI_gGFYP60i",
        "colab_type": "code",
        "outputId": "d5bfa041-860d-436c-8a26-4c4199face76",
        "colab": {
          "base_uri": "https://localhost:8080/",
          "height": 34
        }
      },
      "source": [
        "img, cls =train_data[69999]\n",
        "print(img.shape,cls)"
      ],
      "execution_count": 6,
      "outputs": [
        {
          "output_type": "stream",
          "text": [
            "torch.Size([3, 64, 64]) 199\n"
          ],
          "name": "stdout"
        }
      ]
    },
    {
      "cell_type": "code",
      "metadata": {
        "id": "nO_cBsL5_kbB",
        "colab_type": "code",
        "outputId": "25b3b00b-3fed-417f-830c-4b1ed35ad20f",
        "colab": {
          "base_uri": "https://localhost:8080/",
          "height": 1000
        }
      },
      "source": [
        "from __future__ import print_function\n",
        "import torch\n",
        "import torch.nn as nn\n",
        "import torch.nn.functional as F\n",
        "import torch.optim as optim\n",
        "from torchvision import datasets, transforms\n",
        "\n",
        "from albumentations import Compose, RandomCrop, Normalize, HorizontalFlip, Resize\n",
        "from albumentations.pytorch import ToTensor\n",
        "from models import Resnet18 as resnet18\n",
        "from transformations import ImagenetTiny_Alb as imnet\n",
        "\n",
        "from utils.global_fun import show_summary, run_model_with_entropy,  draw_accuracy_loss_change_graps, plot_accuracy_loss_graphs\n",
        "\n",
        "import importlib\n",
        "importlib.reload(resnet18)\n",
        "importlib.reload(imnet)\n",
        "\n",
        "use_cuda = torch.cuda.is_available()\n",
        "#device = torch.device(\"cuda\" if use_cuda else \"cpu\")\n",
        "device = torch.device(\"cuda\" if torch.cuda.is_available() else \"cpu\")\n",
        "print(device)\n",
        "CUDA_LAUNCH_BLOCKING=1\n",
        "SEED = 1\n",
        "# CUDA?\n",
        "print(\"CUDA Available?\", use_cuda)\n",
        "\n",
        "# For reproducibility\n",
        "torch.manual_seed(SEED)\n",
        "\n",
        "imagenet_num_classes = 200\n",
        "model = resnet18.ResNet18(imagenet_num_classes).to(device)\n",
        "\n",
        "\n",
        "if use_cuda:\n",
        "    torch.cuda.manual_seed(SEED)\n",
        "    model = torch.nn.DataParallel(model)\n",
        "\n",
        "\n",
        "\n",
        "\n",
        "\n",
        "criterion = torch.nn.CrossEntropyLoss()\n",
        "imagenet_model = imnet.Imagenet_Alb(model,train_data,test_data,criterion,None,None)\n",
        "\n",
        "\n",
        "show_summary(imagenet_model,input_size=(3,64,64))"
      ],
      "execution_count": 6,
      "outputs": [
        {
          "output_type": "stream",
          "text": [
            "cuda\n",
            "CUDA Available? True\n",
            "----------------------------------------------------------------\n",
            "        Layer (type)               Output Shape         Param #\n",
            "================================================================\n",
            "            Conv2d-1           [-1, 64, 64, 64]           1,728\n",
            "       BatchNorm2d-2           [-1, 64, 64, 64]             128\n",
            "            Conv2d-3           [-1, 64, 64, 64]          36,864\n",
            "       BatchNorm2d-4           [-1, 64, 64, 64]             128\n",
            "            Conv2d-5           [-1, 64, 64, 64]          36,864\n",
            "       BatchNorm2d-6           [-1, 64, 64, 64]             128\n",
            "        BasicBlock-7           [-1, 64, 64, 64]               0\n",
            "            Conv2d-8           [-1, 64, 64, 64]          36,864\n",
            "       BatchNorm2d-9           [-1, 64, 64, 64]             128\n",
            "           Conv2d-10           [-1, 64, 64, 64]          36,864\n",
            "      BatchNorm2d-11           [-1, 64, 64, 64]             128\n",
            "       BasicBlock-12           [-1, 64, 64, 64]               0\n",
            "           Conv2d-13          [-1, 128, 32, 32]          73,728\n",
            "      BatchNorm2d-14          [-1, 128, 32, 32]             256\n",
            "           Conv2d-15          [-1, 128, 32, 32]         147,456\n",
            "      BatchNorm2d-16          [-1, 128, 32, 32]             256\n",
            "           Conv2d-17          [-1, 128, 32, 32]           8,192\n",
            "          Dropout-18          [-1, 128, 32, 32]               0\n",
            "      BatchNorm2d-19          [-1, 128, 32, 32]             256\n",
            "       BasicBlock-20          [-1, 128, 32, 32]               0\n",
            "           Conv2d-21          [-1, 128, 32, 32]         147,456\n",
            "      BatchNorm2d-22          [-1, 128, 32, 32]             256\n",
            "           Conv2d-23          [-1, 128, 32, 32]         147,456\n",
            "      BatchNorm2d-24          [-1, 128, 32, 32]             256\n",
            "       BasicBlock-25          [-1, 128, 32, 32]               0\n",
            "           Conv2d-26          [-1, 256, 16, 16]         294,912\n",
            "      BatchNorm2d-27          [-1, 256, 16, 16]             512\n",
            "           Conv2d-28          [-1, 256, 16, 16]         589,824\n",
            "      BatchNorm2d-29          [-1, 256, 16, 16]             512\n",
            "           Conv2d-30          [-1, 256, 16, 16]          32,768\n",
            "          Dropout-31          [-1, 256, 16, 16]               0\n",
            "      BatchNorm2d-32          [-1, 256, 16, 16]             512\n",
            "       BasicBlock-33          [-1, 256, 16, 16]               0\n",
            "           Conv2d-34          [-1, 256, 16, 16]         589,824\n",
            "      BatchNorm2d-35          [-1, 256, 16, 16]             512\n",
            "           Conv2d-36          [-1, 256, 16, 16]         589,824\n",
            "      BatchNorm2d-37          [-1, 256, 16, 16]             512\n",
            "       BasicBlock-38          [-1, 256, 16, 16]               0\n",
            "           Conv2d-39            [-1, 512, 8, 8]       1,179,648\n",
            "      BatchNorm2d-40            [-1, 512, 8, 8]           1,024\n",
            "           Conv2d-41            [-1, 512, 8, 8]       2,359,296\n",
            "      BatchNorm2d-42            [-1, 512, 8, 8]           1,024\n",
            "           Conv2d-43            [-1, 512, 8, 8]         131,072\n",
            "          Dropout-44            [-1, 512, 8, 8]               0\n",
            "      BatchNorm2d-45            [-1, 512, 8, 8]           1,024\n",
            "       BasicBlock-46            [-1, 512, 8, 8]               0\n",
            "           Conv2d-47            [-1, 512, 8, 8]       2,359,296\n",
            "      BatchNorm2d-48            [-1, 512, 8, 8]           1,024\n",
            "           Conv2d-49            [-1, 512, 8, 8]       2,359,296\n",
            "      BatchNorm2d-50            [-1, 512, 8, 8]           1,024\n",
            "       BasicBlock-51            [-1, 512, 8, 8]               0\n",
            "           Linear-52                  [-1, 200]         102,600\n",
            "           ResNet-53                  [-1, 200]               0\n",
            "================================================================\n",
            "Total params: 11,271,432\n",
            "Trainable params: 11,271,432\n",
            "Non-trainable params: 0\n",
            "----------------------------------------------------------------\n",
            "Input size (MB): 0.05\n",
            "Forward/backward pass size (MB): 46.75\n",
            "Params size (MB): 43.00\n",
            "Estimated Total Size (MB): 89.80\n",
            "----------------------------------------------------------------\n"
          ],
          "name": "stdout"
        }
      ]
    },
    {
      "cell_type": "markdown",
      "metadata": {
        "id": "YutnfpVOZbrz",
        "colab_type": "text"
      },
      "source": [
        "# Implement custom model with One-Cycle LR"
      ]
    },
    {
      "cell_type": "markdown",
      "metadata": {
        "id": "Vb8JMb3jW2Qy",
        "colab_type": "text"
      },
      "source": [
        "##SHOW PARAMETERS"
      ]
    },
    {
      "cell_type": "markdown",
      "metadata": {
        "id": "YlADwmtMnz89",
        "colab_type": "text"
      },
      "source": [
        "## **LRFinder** - Range test ( Accuracy v/s LR)"
      ]
    },
    {
      "cell_type": "code",
      "metadata": {
        "id": "v7ErvDaYny3m",
        "colab_type": "code",
        "outputId": "6966818b-27b1-4d79-d43f-d547ae286d7a",
        "colab": {
          "base_uri": "https://localhost:8080/",
          "height": 420,
          "referenced_widgets": [
            "69eaea2d355a480f9016fdf0d81fe9ba",
            "2f52f06379184e37b9aefaaf1dc54e33",
            "a68cb5fd6b114b2daf09933e4bd3031d",
            "2eb168291c8541de9e9fe0fde6184786",
            "57144c50c6cd4dac8f8f69c79299e022",
            "5cc13d3a7e004c49a99ee8ad3d8bde17",
            "6a6dde0f4f30421ba326b4abf4ef38b0",
            "cb98872c0ff24e96aa9b2c4940101805"
          ]
        }
      },
      "source": [
        "\n",
        "import torch.nn as nn\n",
        "import torch.optim as optim\n",
        "import torchvision.transforms as transforms\n",
        "from torch.utils.data import DataLoader\n",
        "#from torchvision.datasets import CIFAR10\n",
        "from lr_finder import LRFinder as lrfinder\n",
        "import dataset.ImagenetDataset as imdataset\n",
        "\n",
        "#criterion = nn.CrossEntropyLoss()\n",
        "\n",
        "optimizer = optim.SGD(imagenet_model.m_model.parameters(), lr=1e-7)\n",
        "lr_finder = lrfinder.LRFinder(imagenet_model.m_model, optimizer, criterion, device=\"cuda\")\n",
        "lr_finder.range_test(imagenet_model.m_train_loader, end_lr=50, num_iter=100, step_mode=\"exp\")\n",
        "lr_finder.plot(skip_end=0, accuracy_flag = True)\n",
        "lr_finder.reset()\n"
      ],
      "execution_count": 7,
      "outputs": [
        {
          "output_type": "stream",
          "text": [
            "WARNING:lr_finder.LRFinder:To enable mixed precision training, please install `apex`. Or you can re-install this package by the following command:\n",
            "  pip install torch-lr-finder -v --global-option=\"amp\"\n"
          ],
          "name": "stderr"
        },
        {
          "output_type": "display_data",
          "data": {
            "application/vnd.jupyter.widget-view+json": {
              "model_id": "69eaea2d355a480f9016fdf0d81fe9ba",
              "version_minor": 0,
              "version_major": 2
            },
            "text/plain": [
              "HBox(children=(IntProgress(value=0), HTML(value='')))"
            ]
          },
          "metadata": {
            "tags": []
          }
        },
        {
          "output_type": "stream",
          "text": [
            "\n",
            "Learning rate search finished. See the graph with {finder_name}.plot()\n",
            "Max Accuracy = 1.8 at LR = 0.18334049650160736\n"
          ],
          "name": "stdout"
        },
        {
          "output_type": "display_data",
          "data": {
            "image/png": "[encoded data removed]",
            "text/plain": [
              "<Figure size 432x288 with 1 Axes>"
            ]
          },
          "metadata": {
            "tags": [],
            "needs_background": "light"
          }
        }
      ]
    },
    {
      "cell_type": "markdown",
      "metadata": {
        "id": "hOgOx4H8acyO",
        "colab_type": "text"
      },
      "source": [
        "# One Cycle LR"
      ]
    },
    {
      "cell_type": "code",
      "metadata": {
        "id": "sVdQPrqcahxU",
        "colab_type": "code",
        "colab": {}
      },
      "source": [
        "\n",
        "from utils.global_fun import test_model\n",
        "from utils.global_fun import train_model\n",
        "from utils.global_fun import show_summary, run_model_with_entropy_A11,  draw_accuracy_loss_change_graps, plot_accuracy_loss_graphs\n",
        "\n",
        "import utils.global_fun as fun\n",
        "from models import Resnet18 as resnet18\n",
        "from transformations import ImagenetTiny_Alb as imnet\n",
        "#import OneCycleLR_A11 as oneCycle \n",
        "from CyclicLR import OneCycleLR as oneCycle\n",
        "\n",
        "#from torch.optim.lr_scheduler import OneCycleLR\n",
        "criterion = torch.nn.CrossEntropyLoss()\n",
        "optimizer = optim.SGD(imagenet_model.m_model.parameters(), lr=0.001, momentum=0.9,weight_decay=5e-04)\n",
        "\n",
        "\n",
        "lr_max = 0.5\n",
        "lr_min = lr_max / 100\n",
        "epochs     = 40\n",
        "batch_size = 500\n",
        "iterations = (epochs*70000)/batch_size\n",
        "\n",
        "# scheduler = oneCycle.OneCycleLR_A11(optimizer, batch_size, 30, (lr_min, lr_max), (0.85, 0.95))\n",
        "scheduler = oneCycle.OneCycleLR(optimizer, iterations, lr_range = (lr_min, lr_max), momentum_range =(0.85, 0.95), annihilation_frac = 0.4, reduce_factor =0.01)\n",
        "\n",
        "imagenet_model.setOptimizer(optimizer)\n",
        "imagenet_model.setScheduler(scheduler)\n"
      ],
      "execution_count": 0,
      "outputs": []
    },
    {
      "cell_type": "markdown",
      "metadata": {
        "id": "78Ja3lpRucVn",
        "colab_type": "text"
      },
      "source": [
        "RUNNING WITH REGULARIZATION"
      ]
    },
    {
      "cell_type": "code",
      "metadata": {
        "id": "i96N6xRWWErO",
        "colab_type": "code",
        "outputId": "272ee87c-b692-4adc-91ca-28e73b39b38f",
        "colab": {
          "base_uri": "https://localhost:8080/",
          "height": 1000
        }
      },
      "source": [
        "\n",
        "run_model_with_entropy_A11(imagenet_model, device, doL1= 0, doL2=0, LAMBDA=0, EPOCHS=epochs)"
      ],
      "execution_count": 0,
      "outputs": [
        {
          "output_type": "stream",
          "text": [
            "\r  0%|          | 0/140 [00:00<?, ?it/s]"
          ],
          "name": "stderr"
        },
        {
          "output_type": "stream",
          "text": [
            "EPOCH: 0\n",
            "\n",
            "OneCyclicLR:  steps: 0/5600.0, LR: 0.0050, Momentum: 0.9500%\n",
            "\n",
            "L1= 0 ;L2= 0 ;LAMBDA= 0 epoch= 0\n"
          ],
          "name": "stdout"
        },
        {
          "output_type": "stream",
          "text": [
            "Loss=4.24881649017334 Batch_id=139 Accuracy=5.08: 100%|██████████| 140/140 [02:02<00:00,  1.14it/s]\n",
            "  0%|          | 0/140 [00:00<?, ?it/s]"
          ],
          "name": "stderr"
        },
        {
          "output_type": "stream",
          "text": [
            "\n",
            "Test set: Average loss: 0.0102, Accuracy: 1492/30000 (4.97%)\n",
            "\n",
            "EPOCH: 1\n",
            "\n",
            "OneCyclicLR:  steps: 140/5600.0, LR: 0.0462, Momentum: 0.9417%\n",
            "\n",
            "L1= 0 ;L2= 0 ;LAMBDA= 0 epoch= 1\n"
          ],
          "name": "stdout"
        },
        {
          "output_type": "stream",
          "text": [
            "Loss=3.74233078956604 Batch_id=139 Accuracy=13.22: 100%|██████████| 140/140 [02:02<00:00,  1.14it/s]\n",
            "  0%|          | 0/140 [00:00<?, ?it/s]"
          ],
          "name": "stderr"
        },
        {
          "output_type": "stream",
          "text": [
            "\n",
            "Test set: Average loss: 0.0087, Accuracy: 2854/30000 (9.51%)\n",
            "\n",
            "EPOCH: 2\n",
            "\n",
            "OneCyclicLR:  steps: 280/5600.0, LR: 0.0875, Momentum: 0.9333%\n",
            "\n",
            "L1= 0 ;L2= 0 ;LAMBDA= 0 epoch= 2\n"
          ],
          "name": "stdout"
        },
        {
          "output_type": "stream",
          "text": [
            "Loss=3.4158616065979004 Batch_id=139 Accuracy=20.25: 100%|██████████| 140/140 [02:03<00:00,  1.14it/s]\n",
            "  0%|          | 0/140 [00:00<?, ?it/s]"
          ],
          "name": "stderr"
        },
        {
          "output_type": "stream",
          "text": [
            "\n",
            "Test set: Average loss: 0.0078, Accuracy: 4529/30000 (15.10%)\n",
            "\n",
            "EPOCH: 3\n",
            "\n",
            "OneCyclicLR:  steps: 420/5600.0, LR: 0.1288, Momentum: 0.9250%\n",
            "\n",
            "L1= 0 ;L2= 0 ;LAMBDA= 0 epoch= 3\n"
          ],
          "name": "stdout"
        },
        {
          "output_type": "stream",
          "text": [
            "Loss=3.0362112522125244 Batch_id=139 Accuracy=25.78: 100%|██████████| 140/140 [02:03<00:00,  1.14it/s]\n",
            "  0%|          | 0/140 [00:00<?, ?it/s]"
          ],
          "name": "stderr"
        },
        {
          "output_type": "stream",
          "text": [
            "\n",
            "Test set: Average loss: 0.0074, Accuracy: 5431/30000 (18.10%)\n",
            "\n",
            "EPOCH: 4\n",
            "\n",
            "OneCyclicLR:  steps: 560/5600.0, LR: 0.1700, Momentum: 0.9167%\n",
            "\n",
            "L1= 0 ;L2= 0 ;LAMBDA= 0 epoch= 4\n"
          ],
          "name": "stdout"
        },
        {
          "output_type": "stream",
          "text": [
            "Loss=2.811443567276001 Batch_id=139 Accuracy=30.30: 100%|██████████| 140/140 [02:03<00:00,  1.14it/s]\n",
            "  0%|          | 0/140 [00:00<?, ?it/s]"
          ],
          "name": "stderr"
        },
        {
          "output_type": "stream",
          "text": [
            "\n",
            "Test set: Average loss: 0.0071, Accuracy: 6541/30000 (21.80%)\n",
            "\n",
            "EPOCH: 5\n",
            "\n",
            "OneCyclicLR:  steps: 700/5600.0, LR: 0.2113, Momentum: 0.9083%\n",
            "\n",
            "L1= 0 ;L2= 0 ;LAMBDA= 0 epoch= 5\n"
          ],
          "name": "stdout"
        },
        {
          "output_type": "stream",
          "text": [
            "Loss=2.6081855297088623 Batch_id=139 Accuracy=34.35: 100%|██████████| 140/140 [02:03<00:00,  1.14it/s]\n",
            "  0%|          | 0/140 [00:00<?, ?it/s]"
          ],
          "name": "stderr"
        },
        {
          "output_type": "stream",
          "text": [
            "\n",
            "Test set: Average loss: 0.0070, Accuracy: 6884/30000 (22.95%)\n",
            "\n",
            "EPOCH: 6\n",
            "\n",
            "OneCyclicLR:  steps: 840/5600.0, LR: 0.2525, Momentum: 0.9000%\n",
            "\n",
            "L1= 0 ;L2= 0 ;LAMBDA= 0 epoch= 6\n"
          ],
          "name": "stdout"
        },
        {
          "output_type": "stream",
          "text": [
            "Loss=2.610901355743408 Batch_id=139 Accuracy=38.19: 100%|██████████| 140/140 [02:03<00:00,  1.14it/s]\n",
            "  0%|          | 0/140 [00:00<?, ?it/s]"
          ],
          "name": "stderr"
        },
        {
          "output_type": "stream",
          "text": [
            "\n",
            "Test set: Average loss: 0.0064, Accuracy: 8329/30000 (27.76%)\n",
            "\n",
            "EPOCH: 7\n",
            "\n",
            "OneCyclicLR:  steps: 980/5600.0, LR: 0.2938, Momentum: 0.8917%\n",
            "\n",
            "L1= 0 ;L2= 0 ;LAMBDA= 0 epoch= 7\n"
          ],
          "name": "stdout"
        },
        {
          "output_type": "stream",
          "text": [
            "Loss=2.3639848232269287 Batch_id=139 Accuracy=40.99: 100%|██████████| 140/140 [02:03<00:00,  1.14it/s]\n",
            "  0%|          | 0/140 [00:00<?, ?it/s]"
          ],
          "name": "stderr"
        },
        {
          "output_type": "stream",
          "text": [
            "\n",
            "Test set: Average loss: 0.0058, Accuracy: 9623/30000 (32.08%)\n",
            "\n",
            "EPOCH: 8\n",
            "\n",
            "OneCyclicLR:  steps: 1120/5600.0, LR: 0.3350, Momentum: 0.8833%\n",
            "\n",
            "L1= 0 ;L2= 0 ;LAMBDA= 0 epoch= 8\n"
          ],
          "name": "stdout"
        },
        {
          "output_type": "stream",
          "text": [
            "Loss=2.287080764770508 Batch_id=139 Accuracy=43.99: 100%|██████████| 140/140 [02:03<00:00,  1.14it/s]\n",
            "  0%|          | 0/140 [00:00<?, ?it/s]"
          ],
          "name": "stderr"
        },
        {
          "output_type": "stream",
          "text": [
            "\n",
            "Test set: Average loss: 0.0060, Accuracy: 9042/30000 (30.14%)\n",
            "\n",
            "EPOCH: 9\n",
            "\n",
            "OneCyclicLR:  steps: 1260/5600.0, LR: 0.3762, Momentum: 0.8750%\n",
            "\n",
            "L1= 0 ;L2= 0 ;LAMBDA= 0 epoch= 9\n"
          ],
          "name": "stdout"
        },
        {
          "output_type": "stream",
          "text": [
            "Loss=2.2435266971588135 Batch_id=139 Accuracy=46.50: 100%|██████████| 140/140 [02:03<00:00,  1.14it/s]\n",
            "  0%|          | 0/140 [00:00<?, ?it/s]"
          ],
          "name": "stderr"
        },
        {
          "output_type": "stream",
          "text": [
            "\n",
            "Test set: Average loss: 0.0070, Accuracy: 7637/30000 (25.46%)\n",
            "\n",
            "EPOCH: 10\n",
            "\n",
            "OneCyclicLR:  steps: 1400/5600.0, LR: 0.4175, Momentum: 0.8667%\n",
            "\n",
            "L1= 0 ;L2= 0 ;LAMBDA= 0 epoch= 10\n"
          ],
          "name": "stdout"
        },
        {
          "output_type": "stream",
          "text": [
            "Loss=1.9844880104064941 Batch_id=139 Accuracy=48.60: 100%|██████████| 140/140 [02:02<00:00,  1.14it/s]\n",
            "  0%|          | 0/140 [00:00<?, ?it/s]"
          ],
          "name": "stderr"
        },
        {
          "output_type": "stream",
          "text": [
            "\n",
            "Test set: Average loss: 0.0064, Accuracy: 8391/30000 (27.97%)\n",
            "\n",
            "EPOCH: 11\n",
            "\n",
            "OneCyclicLR:  steps: 1540/5600.0, LR: 0.4587, Momentum: 0.8583%\n",
            "\n",
            "L1= 0 ;L2= 0 ;LAMBDA= 0 epoch= 11\n"
          ],
          "name": "stdout"
        },
        {
          "output_type": "stream",
          "text": [
            "Loss=2.107292890548706 Batch_id=139 Accuracy=50.54: 100%|██████████| 140/140 [02:02<00:00,  1.14it/s]\n",
            "  0%|          | 0/140 [00:00<?, ?it/s]"
          ],
          "name": "stderr"
        },
        {
          "output_type": "stream",
          "text": [
            "\n",
            "Test set: Average loss: 0.0073, Accuracy: 7478/30000 (24.93%)\n",
            "\n",
            "EPOCH: 12\n",
            "\n",
            "OneCyclicLR:  steps: 1680/5600.0, LR: 0.5000, Momentum: 0.8500%\n",
            "\n",
            "L1= 0 ;L2= 0 ;LAMBDA= 0 epoch= 12\n"
          ],
          "name": "stdout"
        },
        {
          "output_type": "stream",
          "text": [
            "Loss=1.9587336778640747 Batch_id=139 Accuracy=53.18: 100%|██████████| 140/140 [02:03<00:00,  1.14it/s]\n",
            "  0%|          | 0/140 [00:00<?, ?it/s]"
          ],
          "name": "stderr"
        },
        {
          "output_type": "stream",
          "text": [
            "\n",
            "Test set: Average loss: 0.0061, Accuracy: 10126/30000 (33.75%)\n",
            "\n",
            "EPOCH: 13\n",
            "\n",
            "OneCyclicLR:  steps: 1820/5600.0, LR: 0.4587, Momentum: 0.8583%\n",
            "\n",
            "L1= 0 ;L2= 0 ;LAMBDA= 0 epoch= 13\n"
          ],
          "name": "stdout"
        },
        {
          "output_type": "stream",
          "text": [
            "Loss=1.847637414932251 Batch_id=139 Accuracy=56.09: 100%|██████████| 140/140 [02:03<00:00,  1.14it/s]\n",
            "  0%|          | 0/140 [00:00<?, ?it/s]"
          ],
          "name": "stderr"
        },
        {
          "output_type": "stream",
          "text": [
            "\n",
            "Test set: Average loss: 0.0058, Accuracy: 10285/30000 (34.28%)\n",
            "\n",
            "EPOCH: 14\n",
            "\n",
            "OneCyclicLR:  steps: 1960/5600.0, LR: 0.4175, Momentum: 0.8667%\n",
            "\n",
            "L1= 0 ;L2= 0 ;LAMBDA= 0 epoch= 14\n"
          ],
          "name": "stdout"
        },
        {
          "output_type": "stream",
          "text": [
            "Loss=1.8329542875289917 Batch_id=139 Accuracy=58.77: 100%|██████████| 140/140 [02:03<00:00,  1.14it/s]\n",
            "  0%|          | 0/140 [00:00<?, ?it/s]"
          ],
          "name": "stderr"
        },
        {
          "output_type": "stream",
          "text": [
            "\n",
            "Test set: Average loss: 0.0071, Accuracy: 8440/30000 (28.13%)\n",
            "\n",
            "EPOCH: 15\n",
            "\n",
            "OneCyclicLR:  steps: 2100/5600.0, LR: 0.3762, Momentum: 0.8750%\n",
            "\n",
            "L1= 0 ;L2= 0 ;LAMBDA= 0 epoch= 15\n"
          ],
          "name": "stdout"
        },
        {
          "output_type": "stream",
          "text": [
            "Loss=1.5265493392944336 Batch_id=139 Accuracy=62.29: 100%|██████████| 140/140 [02:03<00:00,  1.14it/s]\n",
            "  0%|          | 0/140 [00:00<?, ?it/s]"
          ],
          "name": "stderr"
        },
        {
          "output_type": "stream",
          "text": [
            "\n",
            "Test set: Average loss: 0.0058, Accuracy: 10443/30000 (34.81%)\n",
            "\n",
            "EPOCH: 16\n",
            "\n",
            "OneCyclicLR:  steps: 2240/5600.0, LR: 0.3350, Momentum: 0.8833%\n",
            "\n",
            "L1= 0 ;L2= 0 ;LAMBDA= 0 epoch= 16\n"
          ],
          "name": "stdout"
        },
        {
          "output_type": "stream",
          "text": [
            "Loss=1.5028259754180908 Batch_id=139 Accuracy=65.55: 100%|██████████| 140/140 [02:03<00:00,  1.14it/s]\n",
            "  0%|          | 0/140 [00:00<?, ?it/s]"
          ],
          "name": "stderr"
        },
        {
          "output_type": "stream",
          "text": [
            "\n",
            "Test set: Average loss: 0.0063, Accuracy: 9870/30000 (32.90%)\n",
            "\n",
            "EPOCH: 17\n",
            "\n",
            "OneCyclicLR:  steps: 2380/5600.0, LR: 0.2937, Momentum: 0.8917%\n",
            "\n",
            "L1= 0 ;L2= 0 ;LAMBDA= 0 epoch= 17\n"
          ],
          "name": "stdout"
        },
        {
          "output_type": "stream",
          "text": [
            "Loss=1.4399230480194092 Batch_id=139 Accuracy=69.67: 100%|██████████| 140/140 [02:02<00:00,  1.14it/s]\n",
            "  0%|          | 0/140 [00:00<?, ?it/s]"
          ],
          "name": "stderr"
        },
        {
          "output_type": "stream",
          "text": [
            "\n",
            "Test set: Average loss: 0.0067, Accuracy: 10044/30000 (33.48%)\n",
            "\n",
            "EPOCH: 18\n",
            "\n",
            "OneCyclicLR:  steps: 2520/5600.0, LR: 0.2525, Momentum: 0.9000%\n",
            "\n",
            "L1= 0 ;L2= 0 ;LAMBDA= 0 epoch= 18\n"
          ],
          "name": "stdout"
        },
        {
          "output_type": "stream",
          "text": [
            "Loss=1.1885607242584229 Batch_id=139 Accuracy=74.16: 100%|██████████| 140/140 [02:02<00:00,  1.14it/s]\n",
            "  0%|          | 0/140 [00:00<?, ?it/s]"
          ],
          "name": "stderr"
        },
        {
          "output_type": "stream",
          "text": [
            "\n",
            "Test set: Average loss: 0.0071, Accuracy: 9429/30000 (31.43%)\n",
            "\n",
            "EPOCH: 19\n",
            "\n",
            "OneCyclicLR:  steps: 2660/5600.0, LR: 0.2112, Momentum: 0.9083%\n",
            "\n",
            "L1= 0 ;L2= 0 ;LAMBDA= 0 epoch= 19\n"
          ],
          "name": "stdout"
        },
        {
          "output_type": "stream",
          "text": [
            "Loss=0.9469786882400513 Batch_id=139 Accuracy=79.90: 100%|██████████| 140/140 [02:02<00:00,  1.14it/s]\n",
            "  0%|          | 0/140 [00:00<?, ?it/s]"
          ],
          "name": "stderr"
        },
        {
          "output_type": "stream",
          "text": [
            "\n",
            "Test set: Average loss: 0.0069, Accuracy: 9857/30000 (32.86%)\n",
            "\n",
            "EPOCH: 20\n",
            "\n",
            "OneCyclicLR:  steps: 2800/5600.0, LR: 0.1700, Momentum: 0.9167%\n",
            "\n",
            "L1= 0 ;L2= 0 ;LAMBDA= 0 epoch= 20\n"
          ],
          "name": "stdout"
        },
        {
          "output_type": "stream",
          "text": [
            "Loss=0.5636019110679626 Batch_id=139 Accuracy=87.51: 100%|██████████| 140/140 [02:03<00:00,  1.14it/s]\n",
            "  0%|          | 0/140 [00:00<?, ?it/s]"
          ],
          "name": "stderr"
        },
        {
          "output_type": "stream",
          "text": [
            "\n",
            "Test set: Average loss: 0.0064, Accuracy: 11224/30000 (37.41%)\n",
            "\n",
            "EPOCH: 21\n",
            "\n",
            "OneCyclicLR:  steps: 2940/5600.0, LR: 0.1288, Momentum: 0.9250%\n",
            "\n",
            "L1= 0 ;L2= 0 ;LAMBDA= 0 epoch= 21\n"
          ],
          "name": "stdout"
        },
        {
          "output_type": "stream",
          "text": [
            "Loss=0.15939024090766907 Batch_id=139 Accuracy=95.98: 100%|██████████| 140/140 [02:02<00:00,  1.14it/s]\n",
            "  0%|          | 0/140 [00:00<?, ?it/s]"
          ],
          "name": "stderr"
        },
        {
          "output_type": "stream",
          "text": [
            "\n",
            "Test set: Average loss: 0.0051, Accuracy: 13428/30000 (44.76%)\n",
            "\n",
            "EPOCH: 22\n",
            "\n",
            "OneCyclicLR:  steps: 3080/5600.0, LR: 0.0875, Momentum: 0.9333%\n",
            "\n",
            "L1= 0 ;L2= 0 ;LAMBDA= 0 epoch= 22\n"
          ],
          "name": "stdout"
        },
        {
          "output_type": "stream",
          "text": [
            "Loss=0.035978369414806366 Batch_id=139 Accuracy=99.72: 100%|██████████| 140/140 [02:02<00:00,  1.14it/s]\n",
            "  0%|          | 0/140 [00:00<?, ?it/s]"
          ],
          "name": "stderr"
        },
        {
          "output_type": "stream",
          "text": [
            "\n",
            "Test set: Average loss: 0.0044, Accuracy: 14968/30000 (49.89%)\n",
            "\n",
            "EPOCH: 23\n",
            "\n",
            "OneCyclicLR:  steps: 3220/5600.0, LR: 0.0463, Momentum: 0.9417%\n",
            "\n",
            "L1= 0 ;L2= 0 ;LAMBDA= 0 epoch= 23\n"
          ],
          "name": "stdout"
        },
        {
          "output_type": "stream",
          "text": [
            "Loss=0.014981078915297985 Batch_id=139 Accuracy=99.98: 100%|██████████| 140/140 [02:02<00:00,  1.14it/s]\n",
            "  0%|          | 0/140 [00:00<?, ?it/s]"
          ],
          "name": "stderr"
        },
        {
          "output_type": "stream",
          "text": [
            "\n",
            "Test set: Average loss: 0.0043, Accuracy: 15218/30000 (50.73%)\n",
            "\n",
            "EPOCH: 24\n",
            "\n",
            "OneCyclicLR:  steps: 3360/5600.0, LR: 0.0050, Momentum: 0.9500%\n",
            "\n",
            "L1= 0 ;L2= 0 ;LAMBDA= 0 epoch= 24\n"
          ],
          "name": "stdout"
        },
        {
          "output_type": "stream",
          "text": [
            "Loss=0.013826075941324234 Batch_id=139 Accuracy=99.98: 100%|██████████| 140/140 [02:02<00:00,  1.14it/s]\n",
            "  0%|          | 0/140 [00:00<?, ?it/s]"
          ],
          "name": "stderr"
        },
        {
          "output_type": "stream",
          "text": [
            "\n",
            "Test set: Average loss: 0.0043, Accuracy: 15235/30000 (50.78%)\n",
            "\n",
            "EPOCH: 25\n",
            "\n",
            "OneCyclicLR:  steps: 3500/5600.0, LR: 0.0047, Momentum: 0.9500%\n",
            "\n",
            "L1= 0 ;L2= 0 ;LAMBDA= 0 epoch= 25\n"
          ],
          "name": "stdout"
        },
        {
          "output_type": "stream",
          "text": [
            "Loss=0.012254905886948109 Batch_id=139 Accuracy=99.98: 100%|██████████| 140/140 [02:02<00:00,  1.14it/s]\n",
            "  0%|          | 0/140 [00:00<?, ?it/s]"
          ],
          "name": "stderr"
        },
        {
          "output_type": "stream",
          "text": [
            "\n",
            "Test set: Average loss: 0.0043, Accuracy: 15231/30000 (50.77%)\n",
            "\n",
            "EPOCH: 26\n",
            "\n",
            "OneCyclicLR:  steps: 3640/5600.0, LR: 0.0044, Momentum: 0.9500%\n",
            "\n",
            "L1= 0 ;L2= 0 ;LAMBDA= 0 epoch= 26\n"
          ],
          "name": "stdout"
        },
        {
          "output_type": "stream",
          "text": [
            "Loss=0.013825569301843643 Batch_id=139 Accuracy=99.98: 100%|██████████| 140/140 [02:03<00:00,  1.14it/s]\n",
            "  0%|          | 0/140 [00:00<?, ?it/s]"
          ],
          "name": "stderr"
        },
        {
          "output_type": "stream",
          "text": [
            "\n",
            "Test set: Average loss: 0.0043, Accuracy: 15212/30000 (50.71%)\n",
            "\n",
            "EPOCH: 27\n",
            "\n",
            "OneCyclicLR:  steps: 3780/5600.0, LR: 0.0041, Momentum: 0.9500%\n",
            "\n",
            "L1= 0 ;L2= 0 ;LAMBDA= 0 epoch= 27\n"
          ],
          "name": "stdout"
        },
        {
          "output_type": "stream",
          "text": [
            "Loss=0.013547140173614025 Batch_id=139 Accuracy=99.98: 100%|██████████| 140/140 [02:02<00:00,  1.14it/s]\n",
            "  0%|          | 0/140 [00:00<?, ?it/s]"
          ],
          "name": "stderr"
        },
        {
          "output_type": "stream",
          "text": [
            "\n",
            "Test set: Average loss: 0.0043, Accuracy: 15184/30000 (50.61%)\n",
            "\n",
            "EPOCH: 28\n",
            "\n",
            "OneCyclicLR:  steps: 3920/5600.0, LR: 0.0038, Momentum: 0.9500%\n",
            "\n",
            "L1= 0 ;L2= 0 ;LAMBDA= 0 epoch= 28\n"
          ],
          "name": "stdout"
        },
        {
          "output_type": "stream",
          "text": [
            "Loss=0.014014684595167637 Batch_id=139 Accuracy=99.98: 100%|██████████| 140/140 [02:03<00:00,  1.14it/s]\n",
            "  0%|          | 0/140 [00:00<?, ?it/s]"
          ],
          "name": "stderr"
        },
        {
          "output_type": "stream",
          "text": [
            "\n",
            "Test set: Average loss: 0.0043, Accuracy: 15205/30000 (50.68%)\n",
            "\n",
            "EPOCH: 29\n",
            "\n",
            "OneCyclicLR:  steps: 4060/5600.0, LR: 0.0035, Momentum: 0.9500%\n",
            "\n",
            "L1= 0 ;L2= 0 ;LAMBDA= 0 epoch= 29\n"
          ],
          "name": "stdout"
        },
        {
          "output_type": "stream",
          "text": [
            "Loss=0.013523032888770103 Batch_id=139 Accuracy=99.98: 100%|██████████| 140/140 [02:03<00:00,  1.14it/s]\n",
            "  0%|          | 0/140 [00:00<?, ?it/s]"
          ],
          "name": "stderr"
        },
        {
          "output_type": "stream",
          "text": [
            "\n",
            "Test set: Average loss: 0.0043, Accuracy: 15190/30000 (50.63%)\n",
            "\n",
            "EPOCH: 30\n",
            "\n",
            "OneCyclicLR:  steps: 4200/5600.0, LR: 0.0031, Momentum: 0.9500%\n",
            "\n",
            "L1= 0 ;L2= 0 ;LAMBDA= 0 epoch= 30\n"
          ],
          "name": "stdout"
        },
        {
          "output_type": "stream",
          "text": [
            "Loss=0.013792243786156178 Batch_id=139 Accuracy=99.98: 100%|██████████| 140/140 [02:03<00:00,  1.14it/s]\n",
            "  0%|          | 0/140 [00:00<?, ?it/s]"
          ],
          "name": "stderr"
        },
        {
          "output_type": "stream",
          "text": [
            "\n",
            "Test set: Average loss: 0.0043, Accuracy: 15217/30000 (50.72%)\n",
            "\n",
            "EPOCH: 31\n",
            "\n",
            "OneCyclicLR:  steps: 4340/5600.0, LR: 0.0028, Momentum: 0.9500%\n",
            "\n",
            "L1= 0 ;L2= 0 ;LAMBDA= 0 epoch= 31\n"
          ],
          "name": "stdout"
        },
        {
          "output_type": "stream",
          "text": [
            "Loss=0.01295883022248745 Batch_id=139 Accuracy=99.98: 100%|██████████| 140/140 [02:02<00:00,  1.14it/s]\n",
            "  0%|          | 0/140 [00:00<?, ?it/s]"
          ],
          "name": "stderr"
        },
        {
          "output_type": "stream",
          "text": [
            "\n",
            "Test set: Average loss: 0.0043, Accuracy: 15194/30000 (50.65%)\n",
            "\n",
            "EPOCH: 32\n",
            "\n",
            "OneCyclicLR:  steps: 4480/5600.0, LR: 0.0025, Momentum: 0.9500%\n",
            "\n",
            "L1= 0 ;L2= 0 ;LAMBDA= 0 epoch= 32\n"
          ],
          "name": "stdout"
        },
        {
          "output_type": "stream",
          "text": [
            "Loss=0.01406504400074482 Batch_id=139 Accuracy=99.98: 100%|██████████| 140/140 [02:03<00:00,  1.14it/s]\n",
            "  0%|          | 0/140 [00:00<?, ?it/s]"
          ],
          "name": "stderr"
        },
        {
          "output_type": "stream",
          "text": [
            "\n",
            "Test set: Average loss: 0.0042, Accuracy: 15203/30000 (50.68%)\n",
            "\n",
            "EPOCH: 33\n",
            "\n",
            "OneCyclicLR:  steps: 4620/5600.0, LR: 0.0022, Momentum: 0.9500%\n",
            "\n",
            "L1= 0 ;L2= 0 ;LAMBDA= 0 epoch= 33\n"
          ],
          "name": "stdout"
        },
        {
          "output_type": "stream",
          "text": [
            "Loss=0.014817197807133198 Batch_id=139 Accuracy=99.99: 100%|██████████| 140/140 [02:03<00:00,  1.14it/s]\n",
            "  0%|          | 0/140 [00:00<?, ?it/s]"
          ],
          "name": "stderr"
        },
        {
          "output_type": "stream",
          "text": [
            "\n",
            "Test set: Average loss: 0.0042, Accuracy: 15191/30000 (50.64%)\n",
            "\n",
            "EPOCH: 34\n",
            "\n",
            "OneCyclicLR:  steps: 4760/5600.0, LR: 0.0019, Momentum: 0.9500%\n",
            "\n",
            "L1= 0 ;L2= 0 ;LAMBDA= 0 epoch= 34\n"
          ],
          "name": "stdout"
        },
        {
          "output_type": "stream",
          "text": [
            "Loss=0.014242975041270256 Batch_id=139 Accuracy=99.99: 100%|██████████| 140/140 [02:03<00:00,  1.14it/s]\n",
            "  0%|          | 0/140 [00:00<?, ?it/s]"
          ],
          "name": "stderr"
        },
        {
          "output_type": "stream",
          "text": [
            "\n",
            "Test set: Average loss: 0.0042, Accuracy: 15208/30000 (50.69%)\n",
            "\n",
            "EPOCH: 35\n",
            "\n",
            "OneCyclicLR:  steps: 4900/5600.0, LR: 0.0016, Momentum: 0.9500%\n",
            "\n",
            "L1= 0 ;L2= 0 ;LAMBDA= 0 epoch= 35\n"
          ],
          "name": "stdout"
        },
        {
          "output_type": "stream",
          "text": [
            "Loss=0.014897361397743225 Batch_id=53 Accuracy=99.99:  39%|███▊      | 54/140 [00:47<01:15,  1.14it/s]"
          ],
          "name": "stderr"
        }
      ]
    },
    {
      "cell_type": "code",
      "metadata": {
        "id": "A5Vs95ryL6kj",
        "colab_type": "code",
        "outputId": "fbb89eab-6393-4e24-c950-cddcd8d81186",
        "colab": {
          "base_uri": "https://localhost:8080/",
          "height": 1000
        }
      },
      "source": [
        "def ClassTestAccuracy(testloader,device,model):\n",
        "  class_correct = list(0. for i in range(200))\n",
        "  class_total = list(0. for i in range(200))\n",
        "  with torch.no_grad():\n",
        "      for data in testloader:\n",
        "          images, labels = data\n",
        "          images =images.to(device)\n",
        "          labels = labels.to(device)\n",
        "          outputs = model(images)\n",
        "          _, predicted = torch.max(outputs, 1)\n",
        "          c = (predicted == labels).squeeze()\n",
        "          for i in range(len(labels)):\n",
        "              label = labels[i]\n",
        "              class_correct[label] += c[i].item()\n",
        "              class_total[label] += 1\n",
        "\n",
        "  for i in range(200):\n",
        "    print('Accuracy of %5s : %2d %%' % (\n",
        "        classes[i], 100 * class_correct[i] / class_total[i]))\n",
        "    \n",
        "ClassTestAccuracy(imagenet_model.m_test_loader, device, imagenet_model.m_model)"
      ],
      "execution_count": 0,
      "outputs": [
        {
          "output_type": "stream",
          "text": [
            "Accuracy of n01443537 : 70 %\n",
            "Accuracy of n01629819 : 72 %\n",
            "Accuracy of n01641577 : 49 %\n",
            "Accuracy of n01644900 : 30 %\n",
            "Accuracy of n01698640 : 56 %\n",
            "Accuracy of n01742172 : 37 %\n",
            "Accuracy of n01768244 : 67 %\n",
            "Accuracy of n01770393 : 28 %\n",
            "Accuracy of n01774384 : 60 %\n",
            "Accuracy of n01774750 : 45 %\n",
            "Accuracy of n01784675 : 30 %\n",
            "Accuracy of n01855672 : 44 %\n",
            "Accuracy of n01882714 : 58 %\n",
            "Accuracy of n01910747 : 72 %\n",
            "Accuracy of n01917289 : 61 %\n",
            "Accuracy of n01944390 : 32 %\n",
            "Accuracy of n01945685 : 23 %\n",
            "Accuracy of n01950731 : 53 %\n",
            "Accuracy of n01983481 : 47 %\n",
            "Accuracy of n01984695 : 50 %\n",
            "Accuracy of n02002724 : 56 %\n",
            "Accuracy of n02056570 : 62 %\n",
            "Accuracy of n02058221 : 69 %\n",
            "Accuracy of n02074367 : 81 %\n",
            "Accuracy of n02085620 : 37 %\n",
            "Accuracy of n02094433 : 50 %\n",
            "Accuracy of n02099601 : 45 %\n",
            "Accuracy of n02099712 : 23 %\n",
            "Accuracy of n02106662 : 52 %\n",
            "Accuracy of n02113799 : 21 %\n",
            "Accuracy of n02123045 : 34 %\n",
            "Accuracy of n02123394 : 62 %\n",
            "Accuracy of n02124075 : 34 %\n",
            "Accuracy of n02125311 : 38 %\n",
            "Accuracy of n02129165 : 49 %\n",
            "Accuracy of n02132136 : 52 %\n",
            "Accuracy of n02165456 : 62 %\n",
            "Accuracy of n02190166 : 50 %\n",
            "Accuracy of n02206856 : 48 %\n",
            "Accuracy of n02226429 : 38 %\n",
            "Accuracy of n02231487 : 40 %\n",
            "Accuracy of n02233338 : 38 %\n",
            "Accuracy of n02236044 : 34 %\n",
            "Accuracy of n02268443 : 40 %\n",
            "Accuracy of n02279972 : 88 %\n",
            "Accuracy of n02281406 : 76 %\n",
            "Accuracy of n02321529 : 46 %\n",
            "Accuracy of n02364673 : 51 %\n",
            "Accuracy of n02395406 : 29 %\n",
            "Accuracy of n02403003 : 32 %\n",
            "Accuracy of n02410509 : 54 %\n",
            "Accuracy of n02415577 : 40 %\n",
            "Accuracy of n02423022 : 66 %\n",
            "Accuracy of n02437312 : 39 %\n",
            "Accuracy of n02480495 : 52 %\n",
            "Accuracy of n02481823 : 56 %\n",
            "Accuracy of n02486410 : 36 %\n",
            "Accuracy of n02504458 : 68 %\n",
            "Accuracy of n02509815 : 67 %\n",
            "Accuracy of n02666196 : 48 %\n",
            "Accuracy of n02669723 : 55 %\n",
            "Accuracy of n02699494 : 58 %\n",
            "Accuracy of n02730930 : 28 %\n",
            "Accuracy of n02769748 : 37 %\n",
            "Accuracy of n02788148 : 19 %\n",
            "Accuracy of n02791270 : 34 %\n",
            "Accuracy of n02793495 : 63 %\n",
            "Accuracy of n02795169 : 32 %\n",
            "Accuracy of n02802426 : 56 %\n",
            "Accuracy of n02808440 : 41 %\n",
            "Accuracy of n02814533 : 38 %\n",
            "Accuracy of n02814860 : 58 %\n",
            "Accuracy of n02815834 : 41 %\n",
            "Accuracy of n02823428 : 36 %\n",
            "Accuracy of n02837789 : 42 %\n",
            "Accuracy of n02841315 : 31 %\n",
            "Accuracy of n02843684 : 33 %\n",
            "Accuracy of n02883205 : 28 %\n",
            "Accuracy of n02892201 : 68 %\n",
            "Accuracy of n02906734 : 32 %\n",
            "Accuracy of n02909870 : 18 %\n",
            "Accuracy of n02917067 : 80 %\n",
            "Accuracy of n02927161 : 65 %\n",
            "Accuracy of n02948072 : 41 %\n",
            "Accuracy of n02950826 : 31 %\n",
            "Accuracy of n02963159 : 43 %\n",
            "Accuracy of n02977058 : 50 %\n",
            "Accuracy of n02988304 : 46 %\n",
            "Accuracy of n02999410 : 22 %\n",
            "Accuracy of n03014705 : 40 %\n",
            "Accuracy of n03026506 : 54 %\n",
            "Accuracy of n03042490 : 72 %\n",
            "Accuracy of n03085013 : 52 %\n",
            "Accuracy of n03089624 : 55 %\n",
            "Accuracy of n03100240 : 40 %\n",
            "Accuracy of n03126707 : 43 %\n",
            "Accuracy of n03160309 : 53 %\n",
            "Accuracy of n03179701 : 53 %\n",
            "Accuracy of n03201208 : 52 %\n",
            "Accuracy of n03250847 : 18 %\n",
            "Accuracy of n03255030 : 24 %\n",
            "Accuracy of n03355925 : 59 %\n",
            "Accuracy of n03388043 : 32 %\n",
            "Accuracy of n03393912 : 74 %\n",
            "Accuracy of n03400231 : 30 %\n",
            "Accuracy of n03404251 : 36 %\n",
            "Accuracy of n03424325 : 24 %\n",
            "Accuracy of n03444034 : 67 %\n",
            "Accuracy of n03447447 : 68 %\n",
            "Accuracy of n03544143 : 54 %\n",
            "Accuracy of n03584254 : 37 %\n",
            "Accuracy of n03599486 : 70 %\n",
            "Accuracy of n03617480 : 32 %\n",
            "Accuracy of n03637318 : 44 %\n",
            "Accuracy of n03649909 : 32 %\n",
            "Accuracy of n03662601 : 80 %\n",
            "Accuracy of n03670208 : 58 %\n",
            "Accuracy of n03706229 : 42 %\n",
            "Accuracy of n03733131 : 58 %\n",
            "Accuracy of n03763968 : 32 %\n",
            "Accuracy of n03770439 : 36 %\n",
            "Accuracy of n03796401 : 54 %\n",
            "Accuracy of n03804744 : 26 %\n",
            "Accuracy of n03814639 : 28 %\n",
            "Accuracy of n03837869 : 68 %\n",
            "Accuracy of n03838899 : 18 %\n",
            "Accuracy of n03854065 : 63 %\n",
            "Accuracy of n03891332 : 29 %\n",
            "Accuracy of n03902125 : 54 %\n",
            "Accuracy of n03930313 : 54 %\n",
            "Accuracy of n03937543 : 30 %\n",
            "Accuracy of n03970156 : 12 %\n",
            "Accuracy of n03976657 : 28 %\n",
            "Accuracy of n03977966 : 64 %\n",
            "Accuracy of n03980874 : 44 %\n",
            "Accuracy of n03983396 : 29 %\n",
            "Accuracy of n03992509 : 45 %\n",
            "Accuracy of n04008634 : 28 %\n",
            "Accuracy of n04023962 : 34 %\n",
            "Accuracy of n04067472 : 20 %\n",
            "Accuracy of n04070727 : 59 %\n",
            "Accuracy of n04074963 : 40 %\n",
            "Accuracy of n04099969 : 48 %\n",
            "Accuracy of n04118538 : 70 %\n",
            "Accuracy of n04133789 : 36 %\n",
            "Accuracy of n04146614 : 73 %\n",
            "Accuracy of n04149813 : 74 %\n",
            "Accuracy of n04179913 : 35 %\n",
            "Accuracy of n04251144 : 54 %\n",
            "Accuracy of n04254777 : 49 %\n",
            "Accuracy of n04259630 : 44 %\n",
            "Accuracy of n04265275 : 38 %\n",
            "Accuracy of n04275548 : 60 %\n",
            "Accuracy of n04285008 : 53 %\n",
            "Accuracy of n04311004 : 50 %\n",
            "Accuracy of n04328186 : 50 %\n",
            "Accuracy of n04356056 : 26 %\n",
            "Accuracy of n04366367 : 41 %\n",
            "Accuracy of n04371430 : 36 %\n",
            "Accuracy of n04376876 : 12 %\n",
            "Accuracy of n04398044 : 41 %\n",
            "Accuracy of n04399382 : 42 %\n",
            "Accuracy of n04417672 : 57 %\n",
            "Accuracy of n04456115 : 48 %\n",
            "Accuracy of n04465501 : 46 %\n",
            "Accuracy of n04486054 : 80 %\n",
            "Accuracy of n04487081 : 83 %\n",
            "Accuracy of n04501370 : 44 %\n",
            "Accuracy of n04507155 : 19 %\n",
            "Accuracy of n04532106 : 41 %\n",
            "Accuracy of n04532670 : 62 %\n",
            "Accuracy of n04540053 : 48 %\n",
            "Accuracy of n04560804 : 18 %\n",
            "Accuracy of n04562935 : 70 %\n",
            "Accuracy of n04596742 : 39 %\n",
            "Accuracy of n04597913 : 17 %\n",
            "Accuracy of n06596364 : 70 %\n",
            "Accuracy of n07579787 : 38 %\n",
            "Accuracy of n07583066 : 66 %\n",
            "Accuracy of n07614500 : 31 %\n",
            "Accuracy of n07615774 : 36 %\n",
            "Accuracy of n07695742 : 42 %\n",
            "Accuracy of n07711569 : 41 %\n",
            "Accuracy of n07715103 : 60 %\n",
            "Accuracy of n07720875 : 60 %\n",
            "Accuracy of n07734744 : 54 %\n",
            "Accuracy of n07747607 : 71 %\n",
            "Accuracy of n07749582 : 64 %\n",
            "Accuracy of n07753592 : 47 %\n",
            "Accuracy of n07768694 : 70 %\n",
            "Accuracy of n07871810 : 50 %\n",
            "Accuracy of n07873807 : 69 %\n",
            "Accuracy of n07875152 : 68 %\n",
            "Accuracy of n07920052 : 76 %\n",
            "Accuracy of n09193705 : 69 %\n",
            "Accuracy of n09246464 : 41 %\n",
            "Accuracy of n09256479 : 58 %\n",
            "Accuracy of n09332890 : 38 %\n",
            "Accuracy of n09428293 : 62 %\n",
            "Accuracy of n12267677 : 41 %\n"
          ],
          "name": "stdout"
        }
      ]
    },
    {
      "cell_type": "code",
      "metadata": {
        "id": "FWv_PAtbL7M8",
        "colab_type": "code",
        "colab": {}
      },
      "source": [
        "import random\n",
        "import torch\n",
        "from torch import nn\n",
        "import torch.nn as nn\n",
        "from torch.nn import functional as F\n",
        "from torchvision.utils import save_image\n",
        "from torchvision.models import densenet121, resnet18, resnet152, resnet101\n",
        "from torchvision.transforms import functional as tf\n",
        "import os\n",
        "import numpy as np\n",
        "import matplotlib.pyplot as plt\n",
        "\n",
        "from PIL import Image\n",
        "from GradCAM import GradCAM\n",
        "\n",
        "\n",
        "model = imagenet_model.m_model.to('cpu')\n",
        "gradcam_object = GradCAM.GradCAM(model, model.layer2, classes)\n",
        "\n",
        "\n",
        "print('incorrect samples collected for gradcam=',len(imagenet_model.m_incorrect_samples))\n",
        "if(len(imagenet_model.m_incorrect_samples) > 1):\n",
        "  images = [x for x in random.sample(imagenet_model.m_incorrect_samples, 10)]\n",
        "  for img in images:\n",
        "    print(\"####################################################################\")\n",
        "    im_      = img['image'].reshape(1,3,64,64).clone().detach()\n",
        "    prediction = img[\"prediction\"].item()\n",
        "    label      = img[\"label\"].item()\n",
        "    print(\"Predicted value = \", classes[prediction])\n",
        "    cam, heatmap, pred = gradcam_object.forward(im_, prediction, retain_graph= True)\n",
        "    gradcam_object.visualiseGradcam(heatmap, im_)\n",
        "\n",
        "    print(\"Actual Value    = \",classes[label])\n",
        "    cam, heatmap, pred = gradcam_object.forward(im_, label, retain_graph= True)\n",
        "    gradcam_object.visualiseGradcam(heatmap, im_)\n",
        "\n",
        "    print(\"####################################################################\")"
      ],
      "execution_count": 0,
      "outputs": []
    }
  ]
}