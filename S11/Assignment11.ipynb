{
  "nbformat": 4,
  "nbformat_minor": 0,
  "metadata": {
    "colab": {
      "name": "Assignment11.ipynb",
      "provenance": [],
      "collapsed_sections": []
    },
    "kernelspec": {
      "name": "python3",
      "display_name": "Python 3"
    },
    "accelerator": "GPU",
    "widgets": {
      "application/vnd.jupyter.widget-state+json": {
        "35c161e0d14d44018631a2877175a24e": {
          "model_module": "@jupyter-widgets/controls",
          "model_name": "HBoxModel",
          "state": {
            "_view_name": "HBoxView",
            "_dom_classes": [],
            "_model_name": "HBoxModel",
            "_view_module": "@jupyter-widgets/controls",
            "_model_module_version": "1.5.0",
            "_view_count": null,
            "_view_module_version": "1.5.0",
            "box_style": "",
            "layout": "IPY_MODEL_5e04aa3016b74936a9ccab6e8a1f1332",
            "_model_module": "@jupyter-widgets/controls",
            "children": [
              "IPY_MODEL_e755153e09d5475ca339d36b809205c7",
              "IPY_MODEL_38b57b39e54f42559edcd59717492745"
            ]
          }
        },
        "5e04aa3016b74936a9ccab6e8a1f1332": {
          "model_module": "@jupyter-widgets/base",
          "model_name": "LayoutModel",
          "state": {
            "_view_name": "LayoutView",
            "grid_template_rows": null,
            "right": null,
            "justify_content": null,
            "_view_module": "@jupyter-widgets/base",
            "overflow": null,
            "_model_module_version": "1.2.0",
            "_view_count": null,
            "flex_flow": null,
            "width": null,
            "min_width": null,
            "border": null,
            "align_items": null,
            "bottom": null,
            "_model_module": "@jupyter-widgets/base",
            "top": null,
            "grid_column": null,
            "overflow_y": null,
            "overflow_x": null,
            "grid_auto_flow": null,
            "grid_area": null,
            "grid_template_columns": null,
            "flex": null,
            "_model_name": "LayoutModel",
            "justify_items": null,
            "grid_row": null,
            "max_height": null,
            "align_content": null,
            "visibility": null,
            "align_self": null,
            "height": null,
            "min_height": null,
            "padding": null,
            "grid_auto_rows": null,
            "grid_gap": null,
            "max_width": null,
            "order": null,
            "_view_module_version": "1.2.0",
            "grid_template_areas": null,
            "object_position": null,
            "object_fit": null,
            "grid_auto_columns": null,
            "margin": null,
            "display": null,
            "left": null
          }
        },
        "e755153e09d5475ca339d36b809205c7": {
          "model_module": "@jupyter-widgets/controls",
          "model_name": "IntProgressModel",
          "state": {
            "_view_name": "ProgressView",
            "style": "IPY_MODEL_21cdc1bad11542f19396b94b127f79a9",
            "_dom_classes": [],
            "description": "100%",
            "_model_name": "IntProgressModel",
            "bar_style": "success",
            "max": 150,
            "_view_module": "@jupyter-widgets/controls",
            "_model_module_version": "1.5.0",
            "value": 150,
            "_view_count": null,
            "_view_module_version": "1.5.0",
            "orientation": "horizontal",
            "min": 0,
            "description_tooltip": null,
            "_model_module": "@jupyter-widgets/controls",
            "layout": "IPY_MODEL_4e7b2bc35831428c834a5d91579eb85c"
          }
        },
        "38b57b39e54f42559edcd59717492745": {
          "model_module": "@jupyter-widgets/controls",
          "model_name": "HTMLModel",
          "state": {
            "_view_name": "HTMLView",
            "style": "IPY_MODEL_b70bddbec62c4e59b2b4d8c40391c62d",
            "_dom_classes": [],
            "description": "",
            "_model_name": "HTMLModel",
            "placeholder": "​",
            "_view_module": "@jupyter-widgets/controls",
            "_model_module_version": "1.5.0",
            "value": " 150/150 [00:18&lt;00:00,  7.93it/s]",
            "_view_count": null,
            "_view_module_version": "1.5.0",
            "description_tooltip": null,
            "_model_module": "@jupyter-widgets/controls",
            "layout": "IPY_MODEL_e1052f581cd84a6ea04e983e62d1fb4f"
          }
        },
        "21cdc1bad11542f19396b94b127f79a9": {
          "model_module": "@jupyter-widgets/controls",
          "model_name": "ProgressStyleModel",
          "state": {
            "_view_name": "StyleView",
            "_model_name": "ProgressStyleModel",
            "description_width": "initial",
            "_view_module": "@jupyter-widgets/base",
            "_model_module_version": "1.5.0",
            "_view_count": null,
            "_view_module_version": "1.2.0",
            "bar_color": null,
            "_model_module": "@jupyter-widgets/controls"
          }
        },
        "4e7b2bc35831428c834a5d91579eb85c": {
          "model_module": "@jupyter-widgets/base",
          "model_name": "LayoutModel",
          "state": {
            "_view_name": "LayoutView",
            "grid_template_rows": null,
            "right": null,
            "justify_content": null,
            "_view_module": "@jupyter-widgets/base",
            "overflow": null,
            "_model_module_version": "1.2.0",
            "_view_count": null,
            "flex_flow": null,
            "width": null,
            "min_width": null,
            "border": null,
            "align_items": null,
            "bottom": null,
            "_model_module": "@jupyter-widgets/base",
            "top": null,
            "grid_column": null,
            "overflow_y": null,
            "overflow_x": null,
            "grid_auto_flow": null,
            "grid_area": null,
            "grid_template_columns": null,
            "flex": null,
            "_model_name": "LayoutModel",
            "justify_items": null,
            "grid_row": null,
            "max_height": null,
            "align_content": null,
            "visibility": null,
            "align_self": null,
            "height": null,
            "min_height": null,
            "padding": null,
            "grid_auto_rows": null,
            "grid_gap": null,
            "max_width": null,
            "order": null,
            "_view_module_version": "1.2.0",
            "grid_template_areas": null,
            "object_position": null,
            "object_fit": null,
            "grid_auto_columns": null,
            "margin": null,
            "display": null,
            "left": null
          }
        },
        "b70bddbec62c4e59b2b4d8c40391c62d": {
          "model_module": "@jupyter-widgets/controls",
          "model_name": "DescriptionStyleModel",
          "state": {
            "_view_name": "StyleView",
            "_model_name": "DescriptionStyleModel",
            "description_width": "",
            "_view_module": "@jupyter-widgets/base",
            "_model_module_version": "1.5.0",
            "_view_count": null,
            "_view_module_version": "1.2.0",
            "_model_module": "@jupyter-widgets/controls"
          }
        },
        "e1052f581cd84a6ea04e983e62d1fb4f": {
          "model_module": "@jupyter-widgets/base",
          "model_name": "LayoutModel",
          "state": {
            "_view_name": "LayoutView",
            "grid_template_rows": null,
            "right": null,
            "justify_content": null,
            "_view_module": "@jupyter-widgets/base",
            "overflow": null,
            "_model_module_version": "1.2.0",
            "_view_count": null,
            "flex_flow": null,
            "width": null,
            "min_width": null,
            "border": null,
            "align_items": null,
            "bottom": null,
            "_model_module": "@jupyter-widgets/base",
            "top": null,
            "grid_column": null,
            "overflow_y": null,
            "overflow_x": null,
            "grid_auto_flow": null,
            "grid_area": null,
            "grid_template_columns": null,
            "flex": null,
            "_model_name": "LayoutModel",
            "justify_items": null,
            "grid_row": null,
            "max_height": null,
            "align_content": null,
            "visibility": null,
            "align_self": null,
            "height": null,
            "min_height": null,
            "padding": null,
            "grid_auto_rows": null,
            "grid_gap": null,
            "max_width": null,
            "order": null,
            "_view_module_version": "1.2.0",
            "grid_template_areas": null,
            "object_position": null,
            "object_fit": null,
            "grid_auto_columns": null,
            "margin": null,
            "display": null,
            "left": null
          }
        }
      }
    }
  },
  "cells": [
    {
      "cell_type": "code",
      "metadata": {
        "id": "hXzGWJivmz60",
        "colab_type": "code",
        "outputId": "d013373f-fdb3-4f54-cd52-1432a0562fc6",
        "colab": {
          "base_uri": "https://localhost:8080/",
          "height": 34
        }
      },
      "source": [
        "from google.colab import drive\n",
        "drive.mount('/content/gdrive')"
      ],
      "execution_count": 1,
      "outputs": [
        {
          "output_type": "stream",
          "text": [
            "Drive already mounted at /content/gdrive; to attempt to forcibly remount, call drive.mount(\"/content/gdrive\", force_remount=True).\n"
          ],
          "name": "stdout"
        }
      ]
    },
    {
      "cell_type": "code",
      "metadata": {
        "id": "AdULhsaToPi5",
        "colab_type": "code",
        "colab": {
          "base_uri": "https://localhost:8080/",
          "height": 153
        },
        "outputId": "dab99dcb-ace5-49f4-aacb-b7079207396e"
      },
      "source": [
        "!ls /content/gdrive/My\\ Drive/eva-04/S11/* "
      ],
      "execution_count": 4,
      "outputs": [
        {
          "output_type": "stream",
          "text": [
            "'/content/gdrive/My Drive/eva-04/S11/Assignment11.ipynb'\n",
            "'/content/gdrive/My Drive/eva-04/S11/cyclic_lr_image.png'\n",
            "'/content/gdrive/My Drive/eva-04/S11/draw_cyclic_lr.py'\n",
            "'/content/gdrive/My Drive/eva-04/S11/OneCycleLR.py'\n",
            "'/content/gdrive/My Drive/eva-04/S11/README'\n",
            "\n",
            "'/content/gdrive/My Drive/eva-04/S11/__pycache__':\n",
            "OneCycleLR.cpython-36.pyc\n"
          ],
          "name": "stdout"
        }
      ]
    },
    {
      "cell_type": "markdown",
      "metadata": {
        "id": "S6Mf8Ojmojmc",
        "colab_type": "text"
      },
      "source": [
        "We'll need to update our path to import from Drive."
      ]
    },
    {
      "cell_type": "code",
      "metadata": {
        "id": "psH0aLrvoh78",
        "colab_type": "code",
        "colab": {}
      },
      "source": [
        "import sys\n",
        "sys.path.append('/content/gdrive/My Drive/eva-04/S11/')\n",
        "#sys.path.append('/content/gdrive/My Drive/eva-04/')"
      ],
      "execution_count": 0,
      "outputs": []
    },
    {
      "cell_type": "markdown",
      "metadata": {
        "id": "To5GIHRaem4U",
        "colab_type": "text"
      },
      "source": [
        "# *DRAW* CyclicLR Zig-Zag or Triangle PLOT"
      ]
    },
    {
      "cell_type": "code",
      "metadata": {
        "id": "X_6GRRsSjfeR",
        "colab_type": "code",
        "outputId": "0398595d-e60e-48ae-e096-5177b5bb9dd0",
        "colab": {
          "base_uri": "https://localhost:8080/",
          "height": 606
        }
      },
      "source": [
        "from CyclicLR import ZigZagPlot\n",
        "# Inputs :: min LR, max LR, batch size used, number of cycles in CLR\n",
        "draw_cyclic_lr_graph( lr_min = 0.4365, lr_max= 4.365, batch_size= 100, MaxNumCycles = 4)"
      ],
      "execution_count": 8,
      "outputs": [
        {
          "output_type": "display_data",
          "data": {
            "image/png": "[encoded data removed]",
            "text/plain": [
              "<Figure size 1440x720 with 1 Axes>"
            ]
          },
          "metadata": {
            "tags": [],
            "needs_background": "light"
          }
        }
      ]
    },
    {
      "cell_type": "markdown",
      "metadata": {
        "id": "YutnfpVOZbrz",
        "colab_type": "text"
      },
      "source": [
        "# Implement custom model with One-Cycle LR"
      ]
    },
    {
      "cell_type": "markdown",
      "metadata": {
        "id": "dZRgYw_Noz5E",
        "colab_type": "text"
      },
      "source": [
        "## Now we can import the custom model library and other functions"
      ]
    },
    {
      "cell_type": "code",
      "metadata": {
        "id": "nO_cBsL5_kbB",
        "colab_type": "code",
        "outputId": "82aff7b9-f1e8-4b00-e064-fd194e655ce5",
        "colab": {
          "base_uri": "https://localhost:8080/",
          "height": 119
        }
      },
      "source": [
        "from __future__ import print_function\n",
        "import torch\n",
        "import torch.nn as nn\n",
        "import torch.nn.functional as F\n",
        "from torchvision import datasets, transforms\n",
        "\n",
        "#Import assignment 11 model\n",
        "from models import ResnetA11 as resnetA11\n",
        "from transformations import CIFARModel11_Alb as cifar\n",
        "\n",
        "import importlib\n",
        "importlib.reload(resnetA11)\n",
        "importlib.reload(cifar)\n",
        "\n",
        "use_cuda = torch.cuda.is_available()\n",
        "device = torch.device(\"cuda\" if use_cuda else \"cpu\")\n",
        "print(device)\n",
        "model = resnetA11.ResNetA11().to(device) # Model loading to device\n",
        "\n",
        "SEED = 1\n",
        "# CUDA?\n",
        "print(\"CUDA Available?\", use_cuda)\n",
        "\n",
        "# For reproducibility\n",
        "torch.manual_seed(SEED)\n",
        "\n",
        "if use_cuda:\n",
        "    torch.cuda.manual_seed(SEED)"
      ],
      "execution_count": 9,
      "outputs": [
        {
          "output_type": "stream",
          "text": [
            "Files already downloaded and verified\n",
            "Files already downloaded and verified\n",
            "Files already downloaded and verified\n",
            "Files already downloaded and verified\n",
            "cuda\n",
            "CUDA Available? True\n"
          ],
          "name": "stdout"
        }
      ]
    },
    {
      "cell_type": "markdown",
      "metadata": {
        "id": "Vb8JMb3jW2Qy",
        "colab_type": "text"
      },
      "source": [
        "##SHOW PARAMETERS"
      ]
    },
    {
      "cell_type": "code",
      "metadata": {
        "id": "VHuUfTBAW1QB",
        "colab_type": "code",
        "colab": {
          "base_uri": "https://localhost:8080/",
          "height": 748
        },
        "outputId": "862639f8-dec2-4c02-bd58-49a515557c50"
      },
      "source": [
        "from utils.global_fun import test_model\n",
        "from utils.global_fun import train_model\n",
        "from utils.global_fun import show_summary, run_model_with_entropy_A11,  draw_accuracy_loss_change_graps, plot_accuracy_loss_graphs\n",
        "\n",
        "import utils.global_fun as fun\n",
        "from models import ResnetA11 as resnet_a11\n",
        "from transformations import CIFARModel11_Alb as cifar\n",
        "\n",
        "import importlib\n",
        "importlib.reload(resnet_a11)\n",
        "importlib.reload(cifar)\n",
        "importlib.reload(fun) \n",
        "\n",
        "\n",
        "\n",
        "criterion = torch.nn.CrossEntropyLoss()\n",
        "cifar_model = cifar.CIFARModel11_Alb(model,criterion,None,None)\n",
        "show_summary(cifar_model,input_size=(3,32,32))"
      ],
      "execution_count": 10,
      "outputs": [
        {
          "output_type": "stream",
          "text": [
            "Files already downloaded and verified\n",
            "Files already downloaded and verified\n",
            "----------------------------------------------------------------\n",
            "        Layer (type)               Output Shape         Param #\n",
            "================================================================\n",
            "            Conv2d-1           [-1, 64, 32, 32]           1,728\n",
            "       BatchNorm2d-2           [-1, 64, 32, 32]             128\n",
            "              ReLU-3           [-1, 64, 32, 32]               0\n",
            "            Conv2d-4          [-1, 128, 32, 32]          73,728\n",
            "         MaxPool2d-5          [-1, 128, 16, 16]               0\n",
            "       BatchNorm2d-6          [-1, 128, 16, 16]             256\n",
            "              ReLU-7          [-1, 128, 16, 16]               0\n",
            "            Conv2d-8          [-1, 128, 16, 16]         147,456\n",
            "       BatchNorm2d-9          [-1, 128, 16, 16]             256\n",
            "           Conv2d-10          [-1, 128, 16, 16]         147,456\n",
            "      BatchNorm2d-11          [-1, 128, 16, 16]             256\n",
            "         ResBlock-12          [-1, 128, 16, 16]               0\n",
            "           Conv2d-13          [-1, 256, 16, 16]         294,912\n",
            "        MaxPool2d-14            [-1, 256, 8, 8]               0\n",
            "      BatchNorm2d-15            [-1, 256, 8, 8]             512\n",
            "             ReLU-16            [-1, 256, 8, 8]               0\n",
            "         ResBlock-17            [-1, 256, 8, 8]               0\n",
            "           Conv2d-18            [-1, 512, 8, 8]       1,179,648\n",
            "        MaxPool2d-19            [-1, 512, 4, 4]               0\n",
            "      BatchNorm2d-20            [-1, 512, 4, 4]           1,024\n",
            "             ReLU-21            [-1, 512, 4, 4]               0\n",
            "           Conv2d-22            [-1, 512, 4, 4]       2,359,296\n",
            "      BatchNorm2d-23            [-1, 512, 4, 4]           1,024\n",
            "           Conv2d-24            [-1, 512, 4, 4]       2,359,296\n",
            "      BatchNorm2d-25            [-1, 512, 4, 4]           1,024\n",
            "         ResBlock-26            [-1, 512, 4, 4]               0\n",
            "        MaxPool2d-27            [-1, 512, 1, 1]               0\n",
            "           Linear-28                   [-1, 10]           5,130\n",
            "================================================================\n",
            "Total params: 6,573,130\n",
            "Trainable params: 6,573,130\n",
            "Non-trainable params: 0\n",
            "----------------------------------------------------------------\n",
            "Input size (MB): 0.01\n",
            "Forward/backward pass size (MB): 6.25\n",
            "Params size (MB): 25.07\n",
            "Estimated Total Size (MB): 31.34\n",
            "----------------------------------------------------------------\n"
          ],
          "name": "stdout"
        }
      ]
    },
    {
      "cell_type": "markdown",
      "metadata": {
        "id": "YlADwmtMnz89",
        "colab_type": "text"
      },
      "source": [
        "## **LRFinder** - Range test ( Accuracy v/s LR)"
      ]
    },
    {
      "cell_type": "code",
      "metadata": {
        "id": "v7ErvDaYny3m",
        "colab_type": "code",
        "outputId": "bb11fe83-7e78-4567-f87a-c92c54ef5800",
        "colab": {
          "base_uri": "https://localhost:8080/",
          "height": 400,
          "referenced_widgets": [
            "35c161e0d14d44018631a2877175a24e",
            "5e04aa3016b74936a9ccab6e8a1f1332",
            "e755153e09d5475ca339d36b809205c7",
            "38b57b39e54f42559edcd59717492745",
            "21cdc1bad11542f19396b94b127f79a9",
            "4e7b2bc35831428c834a5d91579eb85c",
            "b70bddbec62c4e59b2b4d8c40391c62d",
            "e1052f581cd84a6ea04e983e62d1fb4f"
          ]
        }
      },
      "source": [
        "import torch.nn as nn\n",
        "import torch.optim as optim\n",
        "import torchvision.transforms as transforms\n",
        "from torch.utils.data import DataLoader\n",
        "from torchvision.datasets import CIFAR10\n",
        "from lr_finder import LRFinder as lrfinder\n",
        "\n",
        "#model1 = resnet_a11.ResNetA11().to(device)\n",
        "#criterion1 = nn.CrossEntropyLoss()\n",
        "\n",
        "optimizer = optim.SGD(cifar_model.m_model.parameters(), lr=1e-7)\n",
        "lr_finder = lrfinder.LRFinder(cifar_model.m_model, optimizer, criterion, device=\"cuda\")\n",
        "lr_finder.range_test(cifar_model.m_train_loader, end_lr=100, num_iter=150, step_mode=\"exp\")\n",
        "\n",
        "lr_finder.plot(skip_end=0, accuracy_flag = True)\n",
        "lr_finder.reset()"
      ],
      "execution_count": 11,
      "outputs": [
        {
          "output_type": "stream",
          "text": [
            "WARNING:lr_finder.LRFinder:To enable mixed precision training, please install `apex`. Or you can re-install this package by the following command:\n",
            "  pip install torch-lr-finder -v --global-option=\"amp\"\n"
          ],
          "name": "stderr"
        },
        {
          "output_type": "display_data",
          "data": {
            "application/vnd.jupyter.widget-view+json": {
              "model_id": "35c161e0d14d44018631a2877175a24e",
              "version_minor": 0,
              "version_major": 2
            },
            "text/plain": [
              "HBox(children=(IntProgress(value=0, max=150), HTML(value='')))"
            ]
          },
          "metadata": {
            "tags": []
          }
        },
        {
          "output_type": "stream",
          "text": [
            "\n",
            "Learning rate search finished. See the graph with {finder_name}.plot()\n",
            "Max Accuracy = 23.5 at LR = 0.008317637711026704\n"
          ],
          "name": "stdout"
        },
        {
          "output_type": "display_data",
          "data": {
            "image/png": "[encoded data removed]",
            "text/plain": [
              "<Figure size 432x288 with 1 Axes>"
            ]
          },
          "metadata": {
            "tags": [],
            "needs_background": "light"
          }
        }
      ]
    },
    {
      "cell_type": "markdown",
      "metadata": {
        "id": "hOgOx4H8acyO",
        "colab_type": "text"
      },
      "source": [
        "# One Cycle LR"
      ]
    },
    {
      "cell_type": "code",
      "metadata": {
        "id": "sVdQPrqcahxU",
        "colab_type": "code",
        "colab": {}
      },
      "source": [
        "from CyclicLR import OneCycleLR_A11\n",
        "import torch.optim as optim\n",
        "\n",
        "optimizer = optim.SGD(model.parameters(), lr=0.01, momentum=0.9, weight_decay=5e-4)\n",
        "\"\"\"   Args:\n",
        "        optimizer:             (Optimizer) against which we apply this scheduler\n",
        "        batch_size:             (int) batchSize used\n",
        "        num_epochs:             (int) Number of epochs\n",
        "        lr_range:              (tuple) of min and max values of learning rate\n",
        "        momentum_range:        (tuple) of min and max values of momentum\n",
        "\"\"\"\n",
        "lr_max = 0.008317637711026704\n",
        "lr_min = lr_max / 10\n",
        "scheduler = OneCycleLR_A11(optimizer, batch_size= 200, num_epochs= 24, lr_range=( lr_min, lr_max) , momentum_range=(0.8, 0.95))\n",
        "\n",
        "cifar_model.setOptimizer(optimizer)\n",
        "cifar_model.setScheduler(scheduler)\n"
      ],
      "execution_count": 0,
      "outputs": []
    },
    {
      "cell_type": "markdown",
      "metadata": {
        "id": "78Ja3lpRucVn",
        "colab_type": "text"
      },
      "source": [
        "RUNNING WITH REGULARIZATION"
      ]
    },
    {
      "cell_type": "code",
      "metadata": {
        "id": "i96N6xRWWErO",
        "colab_type": "code",
        "outputId": "8ec06644-7f08-488d-8266-fc33355c5c21",
        "colab": {
          "base_uri": "https://localhost:8080/",
          "height": 1000
        }
      },
      "source": [
        "run_model_with_entropy_A11(cifar_model, device, doL1= 0, doL2=0, LAMBDA=0, EPOCHS=24)"
      ],
      "execution_count": 13,
      "outputs": [
        {
          "output_type": "stream",
          "text": [
            "\r  0%|          | 0/250 [00:00<?, ?it/s]"
          ],
          "name": "stderr"
        },
        {
          "output_type": "stream",
          "text": [
            "EPOCH: 0\n",
            "\n",
            "OneCyclicLR:  steps: 0/6000.0, LR: 0.0008, Momentum: 0.9500%\n",
            "\n",
            "L1= 0 ;L2= 0 ;LAMBDA= 0 epoch= 0\n"
          ],
          "name": "stdout"
        },
        {
          "output_type": "stream",
          "text": [
            "Loss=1.3940861225128174 Batch_id=249 Accuracy=38.90: 100%|██████████| 250/250 [00:30<00:00,  8.10it/s]\n",
            "  0%|          | 0/250 [00:00<?, ?it/s]"
          ],
          "name": "stderr"
        },
        {
          "output_type": "stream",
          "text": [
            "\n",
            "Test set: Average loss: 0.0062, Accuracy: 5487/10000 (54.87%)\n",
            "\n",
            "EPOCH: 1\n",
            "\n",
            "OneCyclicLR:  steps: 250/6000.0, LR: 0.0023, Momentum: 0.9200%\n",
            "\n",
            "L1= 0 ;L2= 0 ;LAMBDA= 0 epoch= 1\n"
          ],
          "name": "stdout"
        },
        {
          "output_type": "stream",
          "text": [
            "Loss=1.2559154033660889 Batch_id=249 Accuracy=54.82: 100%|██████████| 250/250 [00:30<00:00,  8.21it/s]\n",
            "  0%|          | 0/250 [00:00<?, ?it/s]"
          ],
          "name": "stderr"
        },
        {
          "output_type": "stream",
          "text": [
            "\n",
            "Test set: Average loss: 0.0056, Accuracy: 6316/10000 (63.16%)\n",
            "\n",
            "EPOCH: 2\n",
            "\n",
            "OneCyclicLR:  steps: 500/6000.0, LR: 0.0038, Momentum: 0.8900%\n",
            "\n",
            "L1= 0 ;L2= 0 ;LAMBDA= 0 epoch= 2\n"
          ],
          "name": "stdout"
        },
        {
          "output_type": "stream",
          "text": [
            "Loss=0.9453878998756409 Batch_id=249 Accuracy=61.96: 100%|██████████| 250/250 [00:30<00:00,  8.15it/s]\n",
            "  0%|          | 0/250 [00:00<?, ?it/s]"
          ],
          "name": "stderr"
        },
        {
          "output_type": "stream",
          "text": [
            "\n",
            "Test set: Average loss: 0.0040, Accuracy: 7281/10000 (72.81%)\n",
            "\n",
            "EPOCH: 3\n",
            "\n",
            "OneCyclicLR:  steps: 750/6000.0, LR: 0.0053, Momentum: 0.8600%\n",
            "\n",
            "L1= 0 ;L2= 0 ;LAMBDA= 0 epoch= 3\n"
          ],
          "name": "stdout"
        },
        {
          "output_type": "stream",
          "text": [
            "Loss=1.1167713403701782 Batch_id=249 Accuracy=67.68: 100%|██████████| 250/250 [00:30<00:00,  8.21it/s]\n",
            "  0%|          | 0/250 [00:00<?, ?it/s]"
          ],
          "name": "stderr"
        },
        {
          "output_type": "stream",
          "text": [
            "\n",
            "Test set: Average loss: 0.0037, Accuracy: 7423/10000 (74.23%)\n",
            "\n",
            "EPOCH: 4\n",
            "\n",
            "OneCyclicLR:  steps: 1000/6000.0, LR: 0.0068, Momentum: 0.8300%\n",
            "\n",
            "L1= 0 ;L2= 0 ;LAMBDA= 0 epoch= 4\n"
          ],
          "name": "stdout"
        },
        {
          "output_type": "stream",
          "text": [
            "Loss=0.6603524088859558 Batch_id=249 Accuracy=70.93: 100%|██████████| 250/250 [00:30<00:00,  8.12it/s]\n",
            "  0%|          | 0/250 [00:00<?, ?it/s]"
          ],
          "name": "stderr"
        },
        {
          "output_type": "stream",
          "text": [
            "\n",
            "Test set: Average loss: 0.0033, Accuracy: 7824/10000 (78.24%)\n",
            "\n",
            "EPOCH: 5\n",
            "\n",
            "OneCyclicLR:  steps: 1250/6000.0, LR: 0.0083, Momentum: 0.8000%\n",
            "\n",
            "L1= 0 ;L2= 0 ;LAMBDA= 0 epoch= 5\n"
          ],
          "name": "stdout"
        },
        {
          "output_type": "stream",
          "text": [
            "Loss=0.7224096059799194 Batch_id=249 Accuracy=73.90: 100%|██████████| 250/250 [00:30<00:00,  8.27it/s]\n",
            "  0%|          | 0/250 [00:00<?, ?it/s]"
          ],
          "name": "stderr"
        },
        {
          "output_type": "stream",
          "text": [
            "\n",
            "Test set: Average loss: 0.0034, Accuracy: 7734/10000 (77.34%)\n",
            "\n",
            "EPOCH: 6\n",
            "\n",
            "OneCyclicLR:  steps: 1500/6000.0, LR: 0.0079, Momentum: 0.8079%\n",
            "\n",
            "L1= 0 ;L2= 0 ;LAMBDA= 0 epoch= 6\n"
          ],
          "name": "stdout"
        },
        {
          "output_type": "stream",
          "text": [
            "Loss=0.5934423208236694 Batch_id=249 Accuracy=75.94: 100%|██████████| 250/250 [00:30<00:00,  8.18it/s]\n",
            "  0%|          | 0/250 [00:00<?, ?it/s]"
          ],
          "name": "stderr"
        },
        {
          "output_type": "stream",
          "text": [
            "\n",
            "Test set: Average loss: 0.0033, Accuracy: 7833/10000 (78.33%)\n",
            "\n",
            "EPOCH: 7\n",
            "\n",
            "OneCyclicLR:  steps: 1750/6000.0, LR: 0.0075, Momentum: 0.8158%\n",
            "\n",
            "L1= 0 ;L2= 0 ;LAMBDA= 0 epoch= 7\n"
          ],
          "name": "stdout"
        },
        {
          "output_type": "stream",
          "text": [
            "Loss=0.6731730103492737 Batch_id=249 Accuracy=77.43: 100%|██████████| 250/250 [00:30<00:00,  8.17it/s]\n",
            "  0%|          | 0/250 [00:00<?, ?it/s]"
          ],
          "name": "stderr"
        },
        {
          "output_type": "stream",
          "text": [
            "\n",
            "Test set: Average loss: 0.0025, Accuracy: 8289/10000 (82.89%)\n",
            "\n",
            "EPOCH: 8\n",
            "\n",
            "OneCyclicLR:  steps: 2000/6000.0, LR: 0.0071, Momentum: 0.8237%\n",
            "\n",
            "L1= 0 ;L2= 0 ;LAMBDA= 0 epoch= 8\n"
          ],
          "name": "stdout"
        },
        {
          "output_type": "stream",
          "text": [
            "Loss=0.47622746229171753 Batch_id=249 Accuracy=79.32: 100%|██████████| 250/250 [00:30<00:00,  8.20it/s]\n",
            "  0%|          | 0/250 [00:00<?, ?it/s]"
          ],
          "name": "stderr"
        },
        {
          "output_type": "stream",
          "text": [
            "\n",
            "Test set: Average loss: 0.0024, Accuracy: 8390/10000 (83.90%)\n",
            "\n",
            "EPOCH: 9\n",
            "\n",
            "OneCyclicLR:  steps: 2250/6000.0, LR: 0.0067, Momentum: 0.8316%\n",
            "\n",
            "L1= 0 ;L2= 0 ;LAMBDA= 0 epoch= 9\n"
          ],
          "name": "stdout"
        },
        {
          "output_type": "stream",
          "text": [
            "Loss=0.5333173274993896 Batch_id=249 Accuracy=80.46: 100%|██████████| 250/250 [00:30<00:00,  8.12it/s]\n",
            "  0%|          | 0/250 [00:00<?, ?it/s]"
          ],
          "name": "stderr"
        },
        {
          "output_type": "stream",
          "text": [
            "\n",
            "Test set: Average loss: 0.0022, Accuracy: 8511/10000 (85.11%)\n",
            "\n",
            "EPOCH: 10\n",
            "\n",
            "OneCyclicLR:  steps: 2500/6000.0, LR: 0.0063, Momentum: 0.8395%\n",
            "\n",
            "L1= 0 ;L2= 0 ;LAMBDA= 0 epoch= 10\n"
          ],
          "name": "stdout"
        },
        {
          "output_type": "stream",
          "text": [
            "Loss=0.6569615006446838 Batch_id=249 Accuracy=81.40: 100%|██████████| 250/250 [00:30<00:00,  8.18it/s]\n",
            "  0%|          | 0/250 [00:00<?, ?it/s]"
          ],
          "name": "stderr"
        },
        {
          "output_type": "stream",
          "text": [
            "\n",
            "Test set: Average loss: 0.0022, Accuracy: 8530/10000 (85.30%)\n",
            "\n",
            "EPOCH: 11\n",
            "\n",
            "OneCyclicLR:  steps: 2750/6000.0, LR: 0.0060, Momentum: 0.8474%\n",
            "\n",
            "L1= 0 ;L2= 0 ;LAMBDA= 0 epoch= 11\n"
          ],
          "name": "stdout"
        },
        {
          "output_type": "stream",
          "text": [
            "Loss=0.42776793241500854 Batch_id=249 Accuracy=82.55: 100%|██████████| 250/250 [00:30<00:00,  8.20it/s]\n",
            "  0%|          | 0/250 [00:00<?, ?it/s]"
          ],
          "name": "stderr"
        },
        {
          "output_type": "stream",
          "text": [
            "\n",
            "Test set: Average loss: 0.0020, Accuracy: 8673/10000 (86.73%)\n",
            "\n",
            "EPOCH: 12\n",
            "\n",
            "OneCyclicLR:  steps: 3000/6000.0, LR: 0.0056, Momentum: 0.8553%\n",
            "\n",
            "L1= 0 ;L2= 0 ;LAMBDA= 0 epoch= 12\n"
          ],
          "name": "stdout"
        },
        {
          "output_type": "stream",
          "text": [
            "Loss=0.5144942402839661 Batch_id=249 Accuracy=83.40: 100%|██████████| 250/250 [00:30<00:00,  8.26it/s]\n",
            "  0%|          | 0/250 [00:00<?, ?it/s]"
          ],
          "name": "stderr"
        },
        {
          "output_type": "stream",
          "text": [
            "\n",
            "Test set: Average loss: 0.0021, Accuracy: 8620/10000 (86.20%)\n",
            "\n",
            "EPOCH: 13\n",
            "\n",
            "OneCyclicLR:  steps: 3250/6000.0, LR: 0.0052, Momentum: 0.8632%\n",
            "\n",
            "L1= 0 ;L2= 0 ;LAMBDA= 0 epoch= 13\n"
          ],
          "name": "stdout"
        },
        {
          "output_type": "stream",
          "text": [
            "Loss=0.47695392370224 Batch_id=249 Accuracy=84.04: 100%|██████████| 250/250 [00:30<00:00,  8.33it/s]\n",
            "  0%|          | 0/250 [00:00<?, ?it/s]"
          ],
          "name": "stderr"
        },
        {
          "output_type": "stream",
          "text": [
            "\n",
            "Test set: Average loss: 0.0022, Accuracy: 8574/10000 (85.74%)\n",
            "\n",
            "EPOCH: 14\n",
            "\n",
            "OneCyclicLR:  steps: 3500/6000.0, LR: 0.0048, Momentum: 0.8711%\n",
            "\n",
            "L1= 0 ;L2= 0 ;LAMBDA= 0 epoch= 14\n"
          ],
          "name": "stdout"
        },
        {
          "output_type": "stream",
          "text": [
            "Loss=0.5100284218788147 Batch_id=249 Accuracy=84.99: 100%|██████████| 250/250 [00:30<00:00,  8.28it/s]\n",
            "  0%|          | 0/250 [00:00<?, ?it/s]"
          ],
          "name": "stderr"
        },
        {
          "output_type": "stream",
          "text": [
            "\n",
            "Test set: Average loss: 0.0019, Accuracy: 8781/10000 (87.81%)\n",
            "\n",
            "EPOCH: 15\n",
            "\n",
            "OneCyclicLR:  steps: 3750/6000.0, LR: 0.0044, Momentum: 0.8789%\n",
            "\n",
            "L1= 0 ;L2= 0 ;LAMBDA= 0 epoch= 15\n"
          ],
          "name": "stdout"
        },
        {
          "output_type": "stream",
          "text": [
            "Loss=0.3784730136394501 Batch_id=249 Accuracy=85.89: 100%|██████████| 250/250 [00:30<00:00,  8.32it/s]\n",
            "  0%|          | 0/250 [00:00<?, ?it/s]"
          ],
          "name": "stderr"
        },
        {
          "output_type": "stream",
          "text": [
            "\n",
            "Test set: Average loss: 0.0020, Accuracy: 8719/10000 (87.19%)\n",
            "\n",
            "EPOCH: 16\n",
            "\n",
            "OneCyclicLR:  steps: 4000/6000.0, LR: 0.0040, Momentum: 0.8868%\n",
            "\n",
            "L1= 0 ;L2= 0 ;LAMBDA= 0 epoch= 16\n"
          ],
          "name": "stdout"
        },
        {
          "output_type": "stream",
          "text": [
            "Loss=0.29554104804992676 Batch_id=249 Accuracy=86.20: 100%|██████████| 250/250 [00:30<00:00,  8.27it/s]\n",
            "  0%|          | 0/250 [00:00<?, ?it/s]"
          ],
          "name": "stderr"
        },
        {
          "output_type": "stream",
          "text": [
            "\n",
            "Test set: Average loss: 0.0018, Accuracy: 8804/10000 (88.04%)\n",
            "\n",
            "EPOCH: 17\n",
            "\n",
            "OneCyclicLR:  steps: 4250/6000.0, LR: 0.0036, Momentum: 0.8947%\n",
            "\n",
            "L1= 0 ;L2= 0 ;LAMBDA= 0 epoch= 17\n"
          ],
          "name": "stdout"
        },
        {
          "output_type": "stream",
          "text": [
            "Loss=0.36044833064079285 Batch_id=249 Accuracy=86.90: 100%|██████████| 250/250 [00:30<00:00,  8.20it/s]\n",
            "  0%|          | 0/250 [00:00<?, ?it/s]"
          ],
          "name": "stderr"
        },
        {
          "output_type": "stream",
          "text": [
            "\n",
            "Test set: Average loss: 0.0019, Accuracy: 8785/10000 (87.85%)\n",
            "\n",
            "EPOCH: 18\n",
            "\n",
            "OneCyclicLR:  steps: 4500/6000.0, LR: 0.0032, Momentum: 0.9026%\n",
            "\n",
            "L1= 0 ;L2= 0 ;LAMBDA= 0 epoch= 18\n"
          ],
          "name": "stdout"
        },
        {
          "output_type": "stream",
          "text": [
            "Loss=0.32868659496307373 Batch_id=249 Accuracy=87.64: 100%|██████████| 250/250 [00:30<00:00,  8.32it/s]\n",
            "  0%|          | 0/250 [00:00<?, ?it/s]"
          ],
          "name": "stderr"
        },
        {
          "output_type": "stream",
          "text": [
            "\n",
            "Test set: Average loss: 0.0017, Accuracy: 8844/10000 (88.44%)\n",
            "\n",
            "EPOCH: 19\n",
            "\n",
            "OneCyclicLR:  steps: 4750/6000.0, LR: 0.0028, Momentum: 0.9105%\n",
            "\n",
            "L1= 0 ;L2= 0 ;LAMBDA= 0 epoch= 19\n"
          ],
          "name": "stdout"
        },
        {
          "output_type": "stream",
          "text": [
            "Loss=0.30533066391944885 Batch_id=249 Accuracy=88.39: 100%|██████████| 250/250 [00:30<00:00,  8.26it/s]\n",
            "  0%|          | 0/250 [00:00<?, ?it/s]"
          ],
          "name": "stderr"
        },
        {
          "output_type": "stream",
          "text": [
            "\n",
            "Test set: Average loss: 0.0019, Accuracy: 8737/10000 (87.37%)\n",
            "\n",
            "EPOCH: 20\n",
            "\n",
            "OneCyclicLR:  steps: 5000/6000.0, LR: 0.0024, Momentum: 0.9184%\n",
            "\n",
            "L1= 0 ;L2= 0 ;LAMBDA= 0 epoch= 20\n"
          ],
          "name": "stdout"
        },
        {
          "output_type": "stream",
          "text": [
            "Loss=0.35175982117652893 Batch_id=249 Accuracy=88.26: 100%|██████████| 250/250 [00:30<00:00,  8.19it/s]\n",
            "  0%|          | 0/250 [00:00<?, ?it/s]"
          ],
          "name": "stderr"
        },
        {
          "output_type": "stream",
          "text": [
            "\n",
            "Test set: Average loss: 0.0019, Accuracy: 8783/10000 (87.83%)\n",
            "\n",
            "EPOCH: 21\n",
            "\n",
            "OneCyclicLR:  steps: 5250/6000.0, LR: 0.0020, Momentum: 0.9263%\n",
            "\n",
            "L1= 0 ;L2= 0 ;LAMBDA= 0 epoch= 21\n"
          ],
          "name": "stdout"
        },
        {
          "output_type": "stream",
          "text": [
            "Loss=0.3293282687664032 Batch_id=249 Accuracy=89.22: 100%|██████████| 250/250 [00:30<00:00,  8.30it/s]\n",
            "  0%|          | 0/250 [00:00<?, ?it/s]"
          ],
          "name": "stderr"
        },
        {
          "output_type": "stream",
          "text": [
            "\n",
            "Test set: Average loss: 0.0017, Accuracy: 8898/10000 (88.98%)\n",
            "\n",
            "EPOCH: 22\n",
            "\n",
            "OneCyclicLR:  steps: 5500/6000.0, LR: 0.0016, Momentum: 0.9342%\n",
            "\n",
            "L1= 0 ;L2= 0 ;LAMBDA= 0 epoch= 22\n"
          ],
          "name": "stdout"
        },
        {
          "output_type": "stream",
          "text": [
            "Loss=0.22973337769508362 Batch_id=249 Accuracy=89.83: 100%|██████████| 250/250 [00:30<00:00,  8.28it/s]\n",
            "  0%|          | 0/250 [00:00<?, ?it/s]"
          ],
          "name": "stderr"
        },
        {
          "output_type": "stream",
          "text": [
            "\n",
            "Test set: Average loss: 0.0016, Accuracy: 8977/10000 (89.77%)\n",
            "\n",
            "EPOCH: 23\n",
            "\n",
            "OneCyclicLR:  steps: 5750/6000.0, LR: 0.0012, Momentum: 0.9421%\n",
            "\n",
            "L1= 0 ;L2= 0 ;LAMBDA= 0 epoch= 23\n"
          ],
          "name": "stdout"
        },
        {
          "output_type": "stream",
          "text": [
            "Loss=0.27125099301338196 Batch_id=249 Accuracy=90.76: 100%|██████████| 250/250 [00:29<00:00,  8.34it/s]\n"
          ],
          "name": "stderr"
        },
        {
          "output_type": "stream",
          "text": [
            "\n",
            "Test set: Average loss: 0.0015, Accuracy: 9008/10000 (90.08%)\n",
            "\n"
          ],
          "name": "stdout"
        }
      ]
    },
    {
      "cell_type": "markdown",
      "metadata": {
        "id": "ceB04z3kXBhe",
        "colab_type": "text"
      },
      "source": [
        "SAVE MODEL"
      ]
    },
    {
      "cell_type": "code",
      "metadata": {
        "id": "P8B9e2eIXDZo",
        "colab_type": "code",
        "colab": {}
      },
      "source": [
        "import os\n",
        "state = {\n",
        "    'epoch': 150,\n",
        "    'state_dict': cifar_model.m_model.state_dict(),\n",
        "    'optimizer': cifar_model.m_optimizer.state_dict()\n",
        "}\n",
        "\n",
        "filepath = \"/content/gdrive/My Drive/eva-04/S11/\"\n",
        "\n",
        "torch.save(cifar_model.m_model.state_dict(), open(os.path.join(filepath, 'model.pt'), 'wb'))\n",
        "torch.save(cifar_model.m_optimizer.state_dict(), open(os.path.join(filepath, 'optimizer.pt'), 'wb'))\n",
        "torch.save(state, open(os.path.join(filepath, 'savedmodel'), 'wb'))\n",
        "\n",
        "#model.load_state_dict(state['state_dict'])\n",
        "#optimizer.load_state_dict(state['optimizer'])\n",
        "#model = torch.load(filepath)\n"
      ],
      "execution_count": 0,
      "outputs": []
    }
  ]
}